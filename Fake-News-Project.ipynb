{
 "cells": [
  {
   "cell_type": "markdown",
   "id": "386100f9-1f4a-4b3b-b1d3-f5879f96a32d",
   "metadata": {},
   "source": [
    "# Part 1: Data Processing"
   ]
  },
  {
   "cell_type": "markdown",
   "id": "6753bb79-6a03-4032-9cf8-b5176b6fcf2f",
   "metadata": {},
   "source": [
    "## Import all modules"
   ]
  },
  {
   "cell_type": "markdown",
   "id": "41607d2f-4568-4f41-8824-2ef8d9eea2b9",
   "metadata": {},
   "source": [
    "Make sure to have have downloaded all dependencies available in requirements.txt found in the GitHub repository"
   ]
  },
  {
   "cell_type": "code",
   "execution_count": 1,
   "id": "91445634-0188-499e-adf4-ee917492be24",
   "metadata": {},
   "outputs": [
    {
     "name": "stderr",
     "output_type": "stream",
     "text": [
      "Since the GPL-licensed package `unidecode` is not installed, using Python's `unicodedata` package which yields worse results.\n"
     ]
    }
   ],
   "source": [
    "# Modules for data processing\n",
    "from cleantext import clean\n",
    "import pandas as pd\n",
    "import re\n",
    "from nltk.tokenize import word_tokenize\n",
    "from nltk.corpus import stopwords\n",
    "from nltk.stem import PorterStemmer\n",
    "from sklearn.feature_extraction.text import TfidfVectorizer\n",
    "from sklearn.model_selection import train_test_split\n",
    "\n",
    "# Modules for modelling, evaluation and visualization\n",
    "import random\n",
    "from sklearn.svm import LinearSVC\n",
    "from sklearn.linear_model import LogisticRegression\n",
    "from sklearn.neighbors import KNeighborsClassifier\n",
    "from sklearn.naive_bayes import GaussianNB\n",
    "from sklearn.ensemble import RandomForestClassifier\n",
    "from sklearn.model_selection import GridSearchCV\n",
    "from sklearn.metrics import confusion_matrix, ConfusionMatrixDisplay, f1_score, accuracy_score, classification_report\n",
    "import matplotlib.pyplot as plt\n",
    "%matplotlib inline"
   ]
  },
  {
   "cell_type": "markdown",
   "id": "1575404c-2d08-4701-a3b3-c95752c6c05f",
   "metadata": {},
   "source": [
    "## Task 1"
   ]
  },
  {
   "cell_type": "markdown",
   "id": "5805b3c3-3e06-45ed-bf3c-86c01a187155",
   "metadata": {},
   "source": [
    "### Structure, process and clean"
   ]
  },
  {
   "cell_type": "code",
   "execution_count": 2,
   "id": "6e50e45b-bfe2-4379-9851-bcc994e4b1ab",
   "metadata": {},
   "outputs": [],
   "source": [
    "# Own function to replace as many date formats as possible\n",
    "def clean_text(txt):\n",
    "    # Define regex patterns\n",
    "    date1 = re.compile(r\"\\d{4}[-/' ']+\\d{2}[-/' ']+\\d{2}\")  # YYYY-MM-DD or YYYY/MM/DD or YYYY MM DD or a combi (or MM DD in reverse order for all)\n",
    "    date2 = re.compile(r\"\\d{2}[-/' ']+\\d{2}[-/' ']+\\d{4}\")  # DD-MM-YYYY or DD/MM/YYYY or DD MM YYYY or a combi (or MM DD in reverse order for all)\n",
    "    date3 = re.compile(r\"(Jan|Feb|Mar|Apr|May|Jun|Jul|Aug|Sep|Oct|Nov|Dec)\\s+(\\d{1,2},?\\s+\\d{4})\", re.IGNORECASE)  # MON DD, YYYY or MON DD YYYY\n",
    "    date4 = re.compile(r\"(\\d{1,2}\\s+(Jan|Feb|Mar|Apr|May|Jun|Jul|Aug|Sep|Oct|Nov|Dec)\\s+\\d{4})\", re.IGNORECASE)  # DD MON YYYY\n",
    "    date5 = re.compile(r\"\\b([A-Za-z]+ \\d{,2},? \\d{4})\\b\") # Month DD, YYYY or Month DD YYYY\n",
    "    url = re.compile(\"(https?\\:\\/\\/)?(w*\\.?)([\\w.-~]+)\\.([\\w\\-~\\/]+)(?![\\w.-~])\")\n",
    "    number = re.compile(\"([0-9])+\\.?,?([0-9]+)\")\n",
    "    mix = re.compile(\"\\|\") # Update as necessary when weird things show up\n",
    "    numtoken = re.compile(\"(numtoken){2,}\")\n",
    "    \n",
    "    # Replace pattern matches\n",
    "    txt1 = re.sub(date1,\"DATE_TOKEN\", txt)\n",
    "    txt2 = re.sub(date2, \"DATE_TOKEN\", txt1)\n",
    "    txt3 = re.sub(date3, \"DATE_TOKEN\", txt2)\n",
    "    txt4 = re.sub(date4, \"DATE_TOKEN\", txt3)\n",
    "    txt5 = re.sub(date5, \"DATE_TOKEN\", txt4)\n",
    "    txt6 = re.sub(url, \"URL_TOKEN\", txt5)\n",
    "    txt7 = re.sub(number, \"NUM_TOKEN\", txt6)\n",
    "    txt8 = re.sub(mix, \"MIX_TOKEN\", txt7)\n",
    "    txt9 = re.sub(numtoken,\"NUM_TOKEN\", txt8)\n",
    "\n",
    "    return txt9\n",
    "\n",
    "# cleantext module for e-mails, numbers, currencies, punctutation etc.\n",
    "def clean_module (text):\n",
    "    return clean(text,\n",
    "        fix_unicode=False,               # fix various unicode errors\n",
    "        to_ascii=False,                  # transliterate to closest ASCII representation\n",
    "        lower=True,                     # lowercase text\n",
    "        no_line_breaks=True,           # fully strip line breaks as opposed to only normalizing them\n",
    "        no_urls=True,                  # replace all URLs with a special token\n",
    "        no_emails=True,                # replace all email addresses with a special token\n",
    "        no_phone_numbers=True,         # replace all phone numbers with a special token\n",
    "        no_numbers=True,               # replace all numbers with a special token\n",
    "        no_digits=True,                # replace all digits with a special token\n",
    "        no_currency_symbols=False,      # replace all currency symbols with a special token\n",
    "        no_punct=True,                 # remove punctuations\n",
    "        replace_with_punct=\"\",          # instead of removing punctuations you may replace them\n",
    "        replace_with_url=\"URL_TOKEN\",\n",
    "        replace_with_email=\"EMAIL_TOKEN\",\n",
    "        replace_with_phone_number=\"NUM_TOKEN\",\n",
    "        replace_with_number=\"NUM_TOKEN\",\n",
    "        replace_with_digit=\"NUM_TOKEN\",\n",
    "        replace_with_currency_symbol=\"CUR_TOKEN\",\n",
    "        lang=\"en\"                       # set to 'de' for German special handling\n",
    "    )\n",
    "\n",
    "\n",
    "def clean_text2(txt):\n",
    "    numtoken = re.compile(\"(numtoken){2,}\")\n",
    "\n",
    "    txt1 = re.sub(numtoken,\"num_token\", txt)\n",
    "\n",
    "    return txt1\n",
    "\n",
    "# Remove stopwords\n",
    "my_stopwords = ['datetoken', 'urltoken', 'emailtoken', 'numtoken', 'curtoken', 'mixtoken', 'numtokenth', 'numtokennd','numtokend', '$']\n",
    "all_stopwords = stopwords.words('english') + my_stopwords\n",
    "\n",
    "def remove_stopwords (list_of_tokens):\n",
    "    filtered_list = [w for w in list_of_tokens if w not in all_stopwords]\n",
    "    return filtered_list\n",
    "\n",
    "# Perform stemming\n",
    "stemmer = PorterStemmer()\n",
    "\n",
    "def stem_words (token_list):\n",
    "    stemmed_words = [stemmer.stem(i) for i in token_list]\n",
    "    return stemmed_words\n",
    "\n",
    "# Get vocabulary\n",
    "def get_vocabulary_dic (df):\n",
    "    total_vocab = {}\n",
    "    for index, row in df.iterrows(): \n",
    "        article_vocab = row['content']\n",
    "        for word in article_vocab:\n",
    "            if word in total_vocab:\n",
    "                total_vocab[word] += 1\n",
    "            else:\n",
    "                total_vocab[word] = 1\n",
    "    return total_vocab\n",
    "\n",
    "# Cleaning pipeline\n",
    "def clean_text_and_tokenize(content):\n",
    "    content = clean_text(content)\n",
    "    content = clean_module(content)\n",
    "    content = clean_text2(content)\n",
    "    return word_tokenize(content)"
   ]
  },
  {
   "cell_type": "code",
   "execution_count": 3,
   "id": "e9535c3d-7065-42dd-8f63-c72c9f563e21",
   "metadata": {},
   "outputs": [],
   "source": [
    "def clean_and_count_vocabulary(df):\n",
    "    # Clean and tokenize\n",
    "    df.loc[:,\"content\"] = df.loc[:,\"content\"].apply(clean_text_and_tokenize)\n",
    "    \n",
    "    # Get vocabulary before stopwords and stemming\n",
    "    vocab_bf_stopwords_stem = get_vocabulary_dic(df)\n",
    "    initial_length = len(vocab_bf_stopwords_stem)\n",
    "\n",
    "    # Remove stopwords\n",
    "    df.loc[:,\"content\"] = df.loc[:,\"content\"].apply(remove_stopwords)\n",
    "\n",
    "    # Count vocabulary after removing stopwords\n",
    "    vocab_without_stopwords = get_vocabulary_dic(df)\n",
    "    length_wo_stopwords = len(vocab_without_stopwords)\n",
    "\n",
    "    # Perform stemming\n",
    "    df.loc[:,\"content\"] = df.loc[:,\"content\"].apply(stem_words)\n",
    "\n",
    "    # Count vocabulary after stemming\n",
    "    vocab_after_stemming = get_vocabulary_dic(df)\n",
    "    length_after_stemming = len(vocab_after_stemming)\n",
    "\n",
    "    return initial_length, length_wo_stopwords, length_after_stemming\n"
   ]
  },
  {
   "cell_type": "code",
   "execution_count": 4,
   "id": "a9842b76-fc80-4547-b336-b5d71b5e2737",
   "metadata": {},
   "outputs": [],
   "source": [
    "# Read sample file from url\n",
    "url = \"https://raw.githubusercontent.com/several27/FakeNewsCorpus/master/news_sample.csv\"\n",
    "df_sample = pd.read_csv(url)"
   ]
  },
  {
   "cell_type": "code",
   "execution_count": 5,
   "id": "20f8f0e9-d4ae-4848-965d-dc33199654cc",
   "metadata": {},
   "outputs": [
    {
     "name": "stdout",
     "output_type": "stream",
     "text": [
      "Before any removals the vocabulary had size: 16537. After removing stop words the vocabulary had size: 16395, corresponding to a reduction rate of 0.86%. After removing word variations that vocabulary had size: 10980 corresponding reduction rate of 33.03%\n"
     ]
    }
   ],
   "source": [
    "# Compute vocabulary size and reduction rates\n",
    "initial_length, length_wo_stopwords, length_after_stemming = clean_and_count_vocabulary(df_sample)\n",
    "reduction_rate1 = round(((initial_length-length_wo_stopwords)/initial_length)*100,2)\n",
    "reduction_rate2 = round(((length_wo_stopwords-length_after_stemming)/length_wo_stopwords)*100,2)\n",
    "print(f\"Before any removals the vocabulary had size: {initial_length}. After removing stop words the vocabulary had size: {length_wo_stopwords}, corresponding to a reduction rate of {reduction_rate1}%. After removing word variations that vocabulary had size: {length_after_stemming} corresponding reduction rate of {reduction_rate2}%\")"
   ]
  },
  {
   "cell_type": "markdown",
   "id": "9c4a700a-914c-4b33-b213-221e90d153c6",
   "metadata": {},
   "source": [
    "## Task 2 (Exploratory Data Analysis) & Task 3 (Apply preprocessing pipeline to the FakeNewsCorpus)"
   ]
  },
  {
   "cell_type": "markdown",
   "id": "3d422928-4ac0-41fa-a93f-a37681c40e74",
   "metadata": {},
   "source": [
    "Make sure to have placed the file containing the 995k Fake News Corpus file in the same respository as this file under the name \"995,000_rows.csv\""
   ]
  },
  {
   "cell_type": "code",
   "execution_count": 6,
   "id": "502b2c55-b29a-433e-bc50-20628a462100",
   "metadata": {},
   "outputs": [],
   "source": [
    "# Read entire 995k corpus\n",
    "dataframe_original = pd.read_csv('995,000_rows.csv', low_memory=False)"
   ]
  },
  {
   "cell_type": "code",
   "execution_count": 7,
   "id": "2b4f055f-483a-4e93-9aed-0507da9bf250",
   "metadata": {},
   "outputs": [],
   "source": [
    "dataframe = dataframe_original.copy()"
   ]
  },
  {
   "cell_type": "code",
   "execution_count": 8,
   "id": "0b120f79",
   "metadata": {},
   "outputs": [],
   "source": [
    "# delete weird value of 'type' which looks like a date\n",
    "i = dataframe[dataframe['type'] == '2018-02-10 13:43:39.521661'].index\n",
    "\n",
    "dataframe = dataframe.drop(i)"
   ]
  },
  {
   "cell_type": "markdown",
   "id": "fd65c579",
   "metadata": {},
   "source": [
    "### Frequency of 'missing values' in each column"
   ]
  },
  {
   "cell_type": "code",
   "execution_count": 9,
   "id": "9d3ef237",
   "metadata": {},
   "outputs": [
    {
     "data": {
      "text/plain": [
       "Unnamed: 0               0\n",
       "id                       7\n",
       "domain                  11\n",
       "type                 47786\n",
       "url                     11\n",
       "content                 12\n",
       "scraped_at              12\n",
       "inserted_at             12\n",
       "updated_at              12\n",
       "title                 8605\n",
       "authors             442756\n",
       "keywords            994999\n",
       "meta_keywords        38790\n",
       "meta_description    525105\n",
       "tags                764080\n",
       "summary             994999\n",
       "source              780077\n",
       "dtype: int64"
      ]
     },
     "execution_count": 9,
     "metadata": {},
     "output_type": "execute_result"
    }
   ],
   "source": [
    "dataframe.isnull().sum()"
   ]
  },
  {
   "cell_type": "markdown",
   "id": "49e5fcb8-0417-4881-b754-425d5da3cf1a",
   "metadata": {},
   "source": [
    "### Distribution of types"
   ]
  },
  {
   "cell_type": "code",
   "execution_count": 10,
   "id": "06f01c14-8c05-43be-aa78-1adb49e785cc",
   "metadata": {},
   "outputs": [
    {
     "data": {
      "text/plain": [
       "type\n",
       "reliable      218564\n",
       "political     194518\n",
       "bias          133232\n",
       "fake          104883\n",
       "conspiracy     97314\n",
       "rumor          56445\n",
       "unknown        43534\n",
       "unreliable     35332\n",
       "clickbait      27412\n",
       "junksci        14040\n",
       "satire         13160\n",
       "hate            8779\n",
       "Name: count, dtype: int64"
      ]
     },
     "execution_count": 10,
     "metadata": {},
     "output_type": "execute_result"
    }
   ],
   "source": [
    "dataframe.type.value_counts()"
   ]
  },
  {
   "cell_type": "code",
   "execution_count": 11,
   "id": "40c36153-dd2c-40a7-a8de-d3b1aca7b9b2",
   "metadata": {},
   "outputs": [
    {
     "data": {
      "text/plain": [
       "<Axes: xlabel='type', ylabel='frequency'>"
      ]
     },
     "execution_count": 11,
     "metadata": {},
     "output_type": "execute_result"
    },
    {
     "data": {
      "image/png": "[encoded data removed]",
      "text/plain": [
       "<Figure size 640x480 with 1 Axes>"
      ]
     },
     "metadata": {},
     "output_type": "display_data"
    }
   ],
   "source": [
    "dataframe.type.value_counts().plot.bar(xlabel='type', ylabel='frequency')"
   ]
  },
  {
   "cell_type": "markdown",
   "id": "b737c2f6-b7a1-4129-a2c8-89e4f9589edc",
   "metadata": {},
   "source": [
    "### Distribution of domains"
   ]
  },
  {
   "cell_type": "code",
   "execution_count": 12,
   "id": "0f92e822-6a8d-40cf-9c5b-d42b98308f4d",
   "metadata": {},
   "outputs": [
    {
     "data": {
      "text/plain": [
       "domain\n",
       "nytimes.com           0.177031\n",
       "beforeitsnews.com     0.091929\n",
       "dailykos.com          0.078031\n",
       "express.co.uk         0.056265\n",
       "nationalreview.com    0.037565\n",
       "sputniknews.com       0.037417\n",
       "abovetopsecret.com    0.028088\n",
       "wikileaks.org         0.023818\n",
       "www.newsmax.com       0.012752\n",
       "www.ammoland.com      0.011185\n",
       "Name: proportion, dtype: float64"
      ]
     },
     "execution_count": 12,
     "metadata": {},
     "output_type": "execute_result"
    }
   ],
   "source": [
    "dataframe.domain.value_counts(normalize=True).nlargest(10)"
   ]
  },
  {
   "cell_type": "code",
   "execution_count": 13,
   "id": "af4dadf7-3df3-479b-ba3a-4771d74e7df8",
   "metadata": {},
   "outputs": [
    {
     "data": {
      "text/plain": [
       "<Axes: xlabel='domain', ylabel='relative frequency'>"
      ]
     },
     "execution_count": 13,
     "metadata": {},
     "output_type": "execute_result"
    },
    {
     "data": {
      "image/png": "[encoded data removed]",
      "text/plain": [
       "<Figure size 640x480 with 1 Axes>"
      ]
     },
     "metadata": {},
     "output_type": "display_data"
    }
   ],
   "source": [
    "dataframe.domain.value_counts(normalize=True).nlargest(10).plot.bar(xlabel='domain', ylabel='relative frequency')"
   ]
  },
  {
   "cell_type": "markdown",
   "id": "4f9041d5",
   "metadata": {},
   "source": [
    "### What’s the relative frequency of the NYT articles relative to all domains labeled as reliable?"
   ]
  },
  {
   "cell_type": "code",
   "execution_count": 14,
   "id": "56187afc",
   "metadata": {},
   "outputs": [
    {
     "data": {
      "text/plain": [
       "domain\n",
       "nytimes.com        176144\n",
       "www.reuters.com      3956\n",
       "www.yahoo.com        2629\n",
       "Name: count, dtype: int64"
      ]
     },
     "execution_count": 14,
     "metadata": {},
     "output_type": "execute_result"
    }
   ],
   "source": [
    "dataframe.loc[dataframe['type']=='reliable', 'domain'].value_counts().nlargest(3)"
   ]
  },
  {
   "cell_type": "code",
   "execution_count": 15,
   "id": "879ae437-38df-49d2-86f2-585d9e187110",
   "metadata": {},
   "outputs": [
    {
     "data": {
      "text/plain": [
       "domain\n",
       "nytimes.com        0.805915\n",
       "www.reuters.com    0.018100\n",
       "www.yahoo.com      0.012029\n",
       "Name: proportion, dtype: float64"
      ]
     },
     "execution_count": 15,
     "metadata": {},
     "output_type": "execute_result"
    }
   ],
   "source": [
    "dataframe.loc[dataframe['type']=='reliable', 'domain'].value_counts(normalize=True).nlargest(3)"
   ]
  },
  {
   "cell_type": "markdown",
   "id": "05b090a9",
   "metadata": {},
   "source": [
    "### What’s the relative frequency of the BIN articles relative to all domains labeled as fake?"
   ]
  },
  {
   "cell_type": "code",
   "execution_count": 16,
   "id": "749ca104",
   "metadata": {},
   "outputs": [
    {
     "data": {
      "text/plain": [
       "domain\n",
       "beforeitsnews.com           91468\n",
       "threepercenternation.com     2906\n",
       "thenet24h.com                2085\n",
       "Name: count, dtype: int64"
      ]
     },
     "execution_count": 16,
     "metadata": {},
     "output_type": "execute_result"
    }
   ],
   "source": [
    "dataframe.loc[dataframe['type']=='fake', 'domain'].value_counts().nlargest(3)"
   ]
  },
  {
   "cell_type": "code",
   "execution_count": 17,
   "id": "f8a6ed04-7874-4fad-be7e-f8f3757fb7bc",
   "metadata": {},
   "outputs": [
    {
     "data": {
      "text/plain": [
       "domain\n",
       "beforeitsnews.com           0.872096\n",
       "threepercenternation.com    0.027707\n",
       "thenet24h.com               0.019879\n",
       "Name: proportion, dtype: float64"
      ]
     },
     "execution_count": 17,
     "metadata": {},
     "output_type": "execute_result"
    }
   ],
   "source": [
    "dataframe.loc[dataframe['type']=='fake', 'domain'].value_counts(normalize=True).nlargest(3)"
   ]
  },
  {
   "cell_type": "code",
   "execution_count": 18,
   "id": "8464322d-a8d3-4b36-afd9-f335b7775337",
   "metadata": {},
   "outputs": [],
   "source": [
    "def analyze_vocabulary(vocab):\n",
    "    top_100_dic = dict(sorted(vocab.items(), key=lambda x: x[1], reverse=True)[:100])\n",
    "    top_100_words = list(top_100_dic.keys())\n",
    "    top_10000_dic = dict(sorted(vocab.items(), key=lambda x: x[1], reverse=True)[:10000])\n",
    "    return top_100_words, top_10000_dic\n",
    "\n",
    "def clean_and_analyze(df):\n",
    "    # Clean and tokenize\n",
    "    df.loc[:,\"content\"] = df.loc[:,\"content\"].apply(clean_text_and_tokenize)\n",
    "    \n",
    "    # Get vocabulary before stopwords and stemming\n",
    "    vocab_bf_stopwords_stem = get_vocabulary_dic(df)\n",
    "\n",
    "    # Find most frequent words before removing stop words and stemming\n",
    "    top_100_words, top_10000_dic = analyze_vocabulary(vocab_bf_stopwords_stem)\n",
    "\n",
    "    # Find frequency of urls, numbers, and dates\n",
    "    numbers = (vocab_bf_stopwords_stem[\"numtoken\"] + vocab_bf_stopwords_stem[\"numtokenth\"] + vocab_bf_stopwords_stem[\"numtokennd\"] + vocab_bf_stopwords_stem[\"numtokend\"])\n",
    "    urls = vocab_bf_stopwords_stem[\"urltoken\"]\n",
    "    dates = vocab_bf_stopwords_stem[\"datetoken\"]\n",
    "\n",
    "    # Remove stopwords\n",
    "    df.loc[:,\"content\"] = df.loc[:,\"content\"].apply(remove_stopwords)\n",
    "\n",
    "    # Perform stemming\n",
    "    df.loc[:,\"content\"] = df.loc[:,\"content\"].apply(stem_words)\n",
    "\n",
    "    # Analyze vocabulary after stemming\n",
    "    vocab_after_stemming = get_vocabulary_dic(df)\n",
    "    top_100_words_v2, top_10000_dic_v2 = analyze_vocabulary(vocab_after_stemming)\n",
    "\n",
    "    return numbers, urls, dates, top_100_words, top_10000_dic, top_100_words_v2, top_10000_dic_v2"
   ]
  },
  {
   "cell_type": "code",
   "execution_count": 19,
   "id": "140fded8-3469-4fac-9496-1a84ea79c63c",
   "metadata": {},
   "outputs": [],
   "source": [
    "# Remove all types but reliable and fake to ensure reproducability (by avoiding computational issues)\n",
    "dataframe_v02 = dataframe[dataframe['type'].isin(['fake','reliable'])]\n",
    "\n",
    "# Remove NaN values to make cleaning function run properly\n",
    "dataframe_v03 = dataframe_v02.dropna(subset=['content'])  "
   ]
  },
  {
   "cell_type": "markdown",
   "id": "10f24603-3f50-4a27-ab19-126d2c4a1272",
   "metadata": {},
   "source": [
    "Beware of the instruction in the README file on how to handle the code below"
   ]
  },
  {
   "cell_type": "code",
   "execution_count": 21,
   "id": "b04f60c1-3beb-4759-97b5-adebd604c835",
   "metadata": {},
   "outputs": [],
   "source": [
    "# Clean, process and analyze entire corpus\n",
    "numbers, urls, dates, top_100_words, top_10000_dic, top_100_words_v2, top_10000_dic_v2 = clean_and_analyze(dataframe_v03) # Comment out after running the first time"
   ]
  },
  {
   "cell_type": "code",
   "execution_count": 22,
   "id": "f5113263-20ca-4c17-92a3-834bd2232e50",
   "metadata": {},
   "outputs": [],
   "source": [
    "# Download cleaned data to avoid running cleaning and processing on the entire dataset again\n",
    "dataframe_v03.to_csv('full_dataframe') # Comment out after running the first time\n",
    "dataframe_v04 = dataframe_v03.copy() # Comment out after running the first time\n",
    "# dataframe_v04 = pd.read_csv('full_dataframe') # Uncomment and use as dataframe when the run has already run one time. "
   ]
  },
  {
   "cell_type": "code",
   "execution_count": 23,
   "id": "cfac89fa-88f9-4a6c-b491-75b22827d300",
   "metadata": {},
   "outputs": [
    {
     "name": "stdout",
     "output_type": "stream",
     "text": [
      "The number of numbers, urls and dates are: numbers: 2261883, urls: 370203 and dates: 74002\n"
     ]
    }
   ],
   "source": [
    "print(f\"The number of numbers, urls and dates are: numbers: {numbers}, urls: {urls} and dates: {dates}\") # Comment out after running the first time"
   ]
  },
  {
   "cell_type": "code",
   "execution_count": 26,
   "id": "5622d5e0-4ddc-45fc-ae93-286f2fbdce63",
   "metadata": {},
   "outputs": [],
   "source": [
    "dataframe_v04['content'] = dataframe_v04['content'].apply(lambda x: ' '.join(x))  # Comment out after running the first time"
   ]
  },
  {
   "cell_type": "markdown",
   "id": "18cba3e5-3168-4e99-8c52-cf78c03b1702",
   "metadata": {},
   "source": [
    "## Task 4 (Split dataset into training, validation and test splits)"
   ]
  },
  {
   "cell_type": "code",
   "execution_count": 27,
   "id": "c67a78b3-12ea-41d0-84b6-716531bcf801",
   "metadata": {},
   "outputs": [],
   "source": [
    "# pick out articles that are 'fake' and assign to new dataframe\n",
    "dataframe_f = dataframe_v04[dataframe_v04['type'] == 'fake']\n",
    "\n",
    "# pick out articles that are 'reliable' and assign to new dataframe\n",
    "dataframe_r = dataframe_v04[dataframe_v04['type'] == 'reliable']\n",
    "\n",
    "# sample 100000 from each dataset\n",
    "dataframe_f = dataframe_f.sample(n = 100000, random_state=42) # 'fake'\n",
    "dataframe_r = dataframe_r.sample(n = 100000, random_state=42) # 'reliable'\n",
    "\n",
    "# concatenate the two dataset to form a new balanced dataset\n",
    "dataframe_v05 = pd.concat([dataframe_f, dataframe_r])"
   ]
  },
  {
   "cell_type": "code",
   "execution_count": 28,
   "id": "a58e2f62-e05e-486d-b0c8-abec035442bf",
   "metadata": {},
   "outputs": [],
   "source": [
    "# uniformly split the data 80% / 20% into train and validation/test splits\n",
    "train, test = train_test_split(dataframe_v05, train_size = 0.8, random_state = 42)"
   ]
  },
  {
   "cell_type": "code",
   "execution_count": 29,
   "id": "ae8d18f8-04b4-44b6-b00c-9afb29cff9b3",
   "metadata": {},
   "outputs": [],
   "source": [
    "# uniformly split the validation/test data 50% / 50% into validation and test splits\n",
    "val, test = train_test_split(test, train_size = 0.5, random_state = 42)"
   ]
  },
  {
   "cell_type": "markdown",
   "id": "fc61a9c9-716d-4c9c-b6b9-0db9af0d32e0",
   "metadata": {},
   "source": [
    "# Part 2: Simple model"
   ]
  },
  {
   "cell_type": "code",
   "execution_count": 30,
   "id": "4e424108-77ba-48be-9a8f-49e368235960",
   "metadata": {},
   "outputs": [],
   "source": [
    "random.seed(0)\n",
    "\n",
    "# simple models (baseline models):\n",
    "def monkey(x):\n",
    "    return random.choice(['reliable', 'fake'])\n",
    "\n",
    "def sharp(x):\n",
    "    return 'fake'\n",
    "\n",
    "def simple(x):\n",
    "    match x:\n",
    "        case 'nytimes.com':\n",
    "            return 'reliable'\n",
    "        case 'beforeitsnews.com':\n",
    "            return 'fake'\n",
    "        case _:\n",
    "            return monkey(x)"
   ]
  },
  {
   "cell_type": "markdown",
   "id": "277b7a2e",
   "metadata": {},
   "source": [
    "## Baseline model: monkey"
   ]
  },
  {
   "cell_type": "code",
   "execution_count": 31,
   "id": "f1ec3e01",
   "metadata": {},
   "outputs": [],
   "source": [
    "# 'train' monkey and assign its classifications to variable\n",
    "monkey_y_true = train['type']\n",
    "monkey_y_pred = train['content'].apply(monkey)"
   ]
  },
  {
   "cell_type": "code",
   "execution_count": 32,
   "id": "a1852876",
   "metadata": {},
   "outputs": [],
   "source": [
    "report_monkey = classification_report(monkey_y_true, monkey_y_pred, output_dict = True)"
   ]
  },
  {
   "cell_type": "code",
   "execution_count": 33,
   "id": "8aae8f66",
   "metadata": {},
   "outputs": [
    {
     "data": {
      "text/plain": [
       "{'precision': 0.49899227620394826,\n",
       " 'recall': 0.4982189058457385,\n",
       " 'f1-score': 0.4986052911376571,\n",
       " 'support': 80007.0}"
      ]
     },
     "execution_count": 33,
     "metadata": {},
     "output_type": "execute_result"
    }
   ],
   "source": [
    "report_monkey['fake']"
   ]
  },
  {
   "cell_type": "code",
   "execution_count": 34,
   "id": "e840ec02",
   "metadata": {},
   "outputs": [
    {
     "data": {
      "text/plain": [
       "{'precision': 0.4989078472733627,\n",
       " 'recall': 0.49968122210693433,\n",
       " 'f1-score': 0.49929423521329086,\n",
       " 'support': 79993.0}"
      ]
     },
     "execution_count": 34,
     "metadata": {},
     "output_type": "execute_result"
    }
   ],
   "source": [
    "report_monkey['reliable']"
   ]
  },
  {
   "cell_type": "markdown",
   "id": "9e749937",
   "metadata": {},
   "source": [
    "## Baseline model: sharp"
   ]
  },
  {
   "cell_type": "code",
   "execution_count": 35,
   "id": "55ceecfd",
   "metadata": {},
   "outputs": [],
   "source": [
    "# 'train' sharp and assign its classifications to variable\n",
    "sharp_y_true = train['type']\n",
    "sharp_y_pred = train['content'].apply(sharp)"
   ]
  },
  {
   "cell_type": "code",
   "execution_count": 36,
   "id": "b1a014e8",
   "metadata": {},
   "outputs": [
    {
     "name": "stderr",
     "output_type": "stream",
     "text": [
      "/Users/vang/miniconda3/lib/python3.11/site-packages/sklearn/metrics/_classification.py:1497: UndefinedMetricWarning: Precision is ill-defined and being set to 0.0 in labels with no predicted samples. Use `zero_division` parameter to control this behavior.\n",
      "  _warn_prf(average, modifier, f\"{metric.capitalize()} is\", len(result))\n",
      "/Users/vang/miniconda3/lib/python3.11/site-packages/sklearn/metrics/_classification.py:1497: UndefinedMetricWarning: Precision is ill-defined and being set to 0.0 in labels with no predicted samples. Use `zero_division` parameter to control this behavior.\n",
      "  _warn_prf(average, modifier, f\"{metric.capitalize()} is\", len(result))\n",
      "/Users/vang/miniconda3/lib/python3.11/site-packages/sklearn/metrics/_classification.py:1497: UndefinedMetricWarning: Precision is ill-defined and being set to 0.0 in labels with no predicted samples. Use `zero_division` parameter to control this behavior.\n",
      "  _warn_prf(average, modifier, f\"{metric.capitalize()} is\", len(result))\n"
     ]
    }
   ],
   "source": [
    "report_sharp = classification_report(sharp_y_true, sharp_y_pred, output_dict = True)"
   ]
  },
  {
   "cell_type": "code",
   "execution_count": 37,
   "id": "eb4d25c3",
   "metadata": {},
   "outputs": [
    {
     "data": {
      "text/plain": [
       "{'precision': 0.50004375,\n",
       " 'recall': 1.0,\n",
       " 'f1-score': 0.6667055544213294,\n",
       " 'support': 80007.0}"
      ]
     },
     "execution_count": 37,
     "metadata": {},
     "output_type": "execute_result"
    }
   ],
   "source": [
    "report_sharp['fake']"
   ]
  },
  {
   "cell_type": "code",
   "execution_count": 38,
   "id": "f159b9a0",
   "metadata": {},
   "outputs": [
    {
     "data": {
      "text/plain": [
       "{'precision': 0.0, 'recall': 0.0, 'f1-score': 0.0, 'support': 79993.0}"
      ]
     },
     "execution_count": 38,
     "metadata": {},
     "output_type": "execute_result"
    }
   ],
   "source": [
    "report_sharp['reliable']"
   ]
  },
  {
   "cell_type": "markdown",
   "id": "d979d040",
   "metadata": {},
   "source": [
    "## Baseline model: simple"
   ]
  },
  {
   "cell_type": "code",
   "execution_count": 39,
   "id": "35eeb328-c684-4d3a-9ee5-3c21b1c1c3f5",
   "metadata": {},
   "outputs": [],
   "source": [
    "# 'train' simple and assign its classifications to variable\n",
    "simple_y_true = train['type']\n",
    "simple_y_pred = train['domain'].apply(simple)"
   ]
  },
  {
   "cell_type": "code",
   "execution_count": 40,
   "id": "38f67ba2-4a35-4e94-86a3-55ad3e211b0e",
   "metadata": {},
   "outputs": [],
   "source": [
    "report_simple = classification_report(simple_y_true, simple_y_pred, output_dict = True)"
   ]
  },
  {
   "cell_type": "code",
   "execution_count": 41,
   "id": "aec35916-2456-453c-a02e-009c4d5af502",
   "metadata": {},
   "outputs": [
    {
     "data": {
      "text/plain": [
       "{'precision': 0.9065969954278249,\n",
       " 'recall': 0.936818028422513,\n",
       " 'f1-score': 0.9214597894038026,\n",
       " 'support': 80007.0}"
      ]
     },
     "execution_count": 41,
     "metadata": {},
     "output_type": "execute_result"
    }
   ],
   "source": [
    "report_simple['fake']"
   ]
  },
  {
   "cell_type": "code",
   "execution_count": 42,
   "id": "bfaeb5ba-8894-4909-8985-2421e2c782d2",
   "metadata": {},
   "outputs": [
    {
     "data": {
      "text/plain": [
       "{'precision': 0.9346274215658381,\n",
       " 'recall': 0.9034665533234157,\n",
       " 'f1-score': 0.9187828552177423,\n",
       " 'support': 79993.0}"
      ]
     },
     "execution_count": 42,
     "metadata": {},
     "output_type": "execute_result"
    }
   ],
   "source": [
    "report_simple['reliable']"
   ]
  },
  {
   "cell_type": "code",
   "execution_count": 43,
   "id": "9d09018c-37ad-4940-9bd3-5b50fa0acfad",
   "metadata": {},
   "outputs": [],
   "source": [
    "confusion_simple = confusion_matrix(simple_y_true, simple_y_pred, normalize = 'all')"
   ]
  },
  {
   "cell_type": "code",
   "execution_count": 44,
   "id": "caf580b3-e077-48a9-88c8-48f9c4230c57",
   "metadata": {},
   "outputs": [],
   "source": [
    "display = ConfusionMatrixDisplay(confusion_simple)"
   ]
  },
  {
   "cell_type": "code",
   "execution_count": 45,
   "id": "a609a0ef-c924-42b1-b649-8a152e6fbb49",
   "metadata": {},
   "outputs": [
    {
     "data": {
      "text/plain": [
       "<sklearn.metrics._plot.confusion_matrix.ConfusionMatrixDisplay at 0x67b422e50>"
      ]
     },
     "execution_count": 45,
     "metadata": {},
     "output_type": "execute_result"
    },
    {
     "data": {
      "image/png": "[encoded data removed]",
      "text/plain": [
       "<Figure size 640x480 with 2 Axes>"
      ]
     },
     "metadata": {},
     "output_type": "display_data"
    }
   ],
   "source": [
    "display.plot()"
   ]
  },
  {
   "cell_type": "markdown",
   "id": "64461232-7966-48ec-9599-68e3e0be9e82",
   "metadata": {},
   "source": [
    "# Part 3: Advanced Model"
   ]
  },
  {
   "cell_type": "markdown",
   "id": "f87c9709-e718-4d2f-b106-08d714bed14f",
   "metadata": {},
   "source": [
    "### Last processing before modelling"
   ]
  },
  {
   "cell_type": "code",
   "execution_count": 46,
   "id": "7247da09-eb49-4f2a-97c0-127909c7e20b",
   "metadata": {},
   "outputs": [],
   "source": [
    "# Remove all meta-data to ease computations\n",
    "train = train.drop(['Unnamed: 0', 'id','domain','url','scraped_at','inserted_at','updated_at','title','authors','keywords','meta_keywords','meta_description','tags','summary','source'],axis=1)\n",
    "val = val.drop(['Unnamed: 0', 'id','domain','url','scraped_at','inserted_at','updated_at','title','authors','keywords','meta_keywords','meta_description','tags','summary','source'],axis=1)\n",
    "test = test.drop(['Unnamed: 0', 'id','domain','url','scraped_at','inserted_at','updated_at','title','authors','keywords','meta_keywords','meta_description','tags','summary','source'],axis=1)"
   ]
  },
  {
   "cell_type": "code",
   "execution_count": 47,
   "id": "fc7e3ccc-010c-4503-9d36-dc874f1405c0",
   "metadata": {},
   "outputs": [],
   "source": [
    "# Convert reliable to 0 and fake to 1\n",
    "train.loc[:, \"type\"] = train.loc[:, \"type\"].apply(lambda x: 0 if x==\"reliable\" else 1)\n",
    "val.loc[:, \"type\"] = val.loc[:, \"type\"].apply(lambda x: 0 if x==\"reliable\" else 1)\n",
    "test.loc[:, \"type\"] = test.loc[:, \"type\"].apply(lambda x: 0 if x==\"reliable\" else 1)"
   ]
  },
  {
   "cell_type": "code",
   "execution_count": 48,
   "id": "71bddf2a-1f0b-423a-ae49-64084c716f69",
   "metadata": {},
   "outputs": [],
   "source": [
    "# Define x and y values\n",
    "x_train, y_train = train['content'], train['type']\n",
    "x_val, y_val = val['content'], val['type']\n",
    "x_test, y_test = test['content'], test['type']"
   ]
  },
  {
   "cell_type": "markdown",
   "id": "8514aa32-8602-4d1c-9717-c4241d585bee",
   "metadata": {},
   "source": [
    "# Represent text with Tf-idf"
   ]
  },
  {
   "cell_type": "code",
   "execution_count": 49,
   "id": "24f61777-17b4-45df-a1d6-af37cad2d033",
   "metadata": {},
   "outputs": [],
   "source": [
    "# Perform tf-idf on train and validation data\n",
    "vectorizer = TfidfVectorizer(ngram_range=(1,2))\n",
    "x_train_vectorized = vectorizer.fit_transform(x_train)\n",
    "x_val_vectorized = vectorizer.transform(x_val)"
   ]
  },
  {
   "cell_type": "code",
   "execution_count": 50,
   "id": "29824958-d07a-4dd5-815f-dbf88d094e68",
   "metadata": {},
   "outputs": [],
   "source": [
    "# Define type of y-value to avoid issues\n",
    "y_train = y_train.astype('int64')\n",
    "y_val = y_val.astype('int64')"
   ]
  },
  {
   "cell_type": "markdown",
   "id": "c26eca0a-c73f-43d8-bd89-ce151296e7c4",
   "metadata": {},
   "source": [
    "## Support Vector Machines"
   ]
  },
  {
   "cell_type": "code",
   "execution_count": 51,
   "id": "5ff033de-42dd-4314-b550-89a57b981738",
   "metadata": {},
   "outputs": [
    {
     "data": {
      "text/html": [
       "<style>#sk-container-id-1 {\n",
       "  /* Definition of color scheme common for light and dark mode */\n",
       "  --sklearn-color-text: black;\n",
       "  --sklearn-color-line: gray;\n",
       "  /* Definition of color scheme for unfitted estimators */\n",
       "  --sklearn-color-unfitted-level-0: #fff5e6;\n",
       "  --sklearn-color-unfitted-level-1: #f6e4d2;\n",
       "  --sklearn-color-unfitted-level-2: #ffe0b3;\n",
       "  --sklearn-color-unfitted-level-3: chocolate;\n",
       "  /* Definition of color scheme for fitted estimators */\n",
       "  --sklearn-color-fitted-level-0: #f0f8ff;\n",
       "  --sklearn-color-fitted-level-1: #d4ebff;\n",
       "  --sklearn-color-fitted-level-2: #b3dbfd;\n",
       "  --sklearn-color-fitted-level-3: cornflowerblue;\n",
       "\n",
       "  /* Specific color for light theme */\n",
       "  --sklearn-color-text-on-default-background: var(--sg-text-color, var(--theme-code-foreground, var(--jp-content-font-color1, black)));\n",
       "  --sklearn-color-background: var(--sg-background-color, var(--theme-background, var(--jp-layout-color0, white)));\n",
       "  --sklearn-color-border-box: var(--sg-text-color, var(--theme-code-foreground, var(--jp-content-font-color1, black)));\n",
       "  --sklearn-color-icon: #696969;\n",
       "\n",
       "  @media (prefers-color-scheme: dark) {\n",
       "    /* Redefinition of color scheme for dark theme */\n",
       "    --sklearn-color-text-on-default-background: var(--sg-text-color, var(--theme-code-foreground, var(--jp-content-font-color1, white)));\n",
       "    --sklearn-color-background: var(--sg-background-color, var(--theme-background, var(--jp-layout-color0, #111)));\n",
       "    --sklearn-color-border-box: var(--sg-text-color, var(--theme-code-foreground, var(--jp-content-font-color1, white)));\n",
       "    --sklearn-color-icon: #878787;\n",
       "  }\n",
       "}\n",
       "\n",
       "#sk-container-id-1 {\n",
       "  color: var(--sklearn-color-text);\n",
       "}\n",
       "\n",
       "#sk-container-id-1 pre {\n",
       "  padding: 0;\n",
       "}\n",
       "\n",
       "#sk-container-id-1 input.sk-hidden--visually {\n",
       "  border: 0;\n",
       "  clip: rect(1px 1px 1px 1px);\n",
       "  clip: rect(1px, 1px, 1px, 1px);\n",
       "  height: 1px;\n",
       "  margin: -1px;\n",
       "  overflow: hidden;\n",
       "  padding: 0;\n",
       "  position: absolute;\n",
       "  width: 1px;\n",
       "}\n",
       "\n",
       "#sk-container-id-1 div.sk-dashed-wrapped {\n",
       "  border: 1px dashed var(--sklearn-color-line);\n",
       "  margin: 0 0.4em 0.5em 0.4em;\n",
       "  box-sizing: border-box;\n",
       "  padding-bottom: 0.4em;\n",
       "  background-color: var(--sklearn-color-background);\n",
       "}\n",
       "\n",
       "#sk-container-id-1 div.sk-container {\n",
       "  /* jupyter's `normalize.less` sets `[hidden] { display: none; }`\n",
       "     but bootstrap.min.css set `[hidden] { display: none !important; }`\n",
       "     so we also need the `!important` here to be able to override the\n",
       "     default hidden behavior on the sphinx rendered scikit-learn.org.\n",
       "     See: https://github.com/scikit-learn/scikit-learn/issues/21755 */\n",
       "  display: inline-block !important;\n",
       "  position: relative;\n",
       "}\n",
       "\n",
       "#sk-container-id-1 div.sk-text-repr-fallback {\n",
       "  display: none;\n",
       "}\n",
       "\n",
       "div.sk-parallel-item,\n",
       "div.sk-serial,\n",
       "div.sk-item {\n",
       "  /* draw centered vertical line to link estimators */\n",
       "  background-image: linear-gradient(var(--sklearn-color-text-on-default-background), var(--sklearn-color-text-on-default-background));\n",
       "  background-size: 2px 100%;\n",
       "  background-repeat: no-repeat;\n",
       "  background-position: center center;\n",
       "}\n",
       "\n",
       "/* Parallel-specific style estimator block */\n",
       "\n",
       "#sk-container-id-1 div.sk-parallel-item::after {\n",
       "  content: \"\";\n",
       "  width: 100%;\n",
       "  border-bottom: 2px solid var(--sklearn-color-text-on-default-background);\n",
       "  flex-grow: 1;\n",
       "}\n",
       "\n",
       "#sk-container-id-1 div.sk-parallel {\n",
       "  display: flex;\n",
       "  align-items: stretch;\n",
       "  justify-content: center;\n",
       "  background-color: var(--sklearn-color-background);\n",
       "  position: relative;\n",
       "}\n",
       "\n",
       "#sk-container-id-1 div.sk-parallel-item {\n",
       "  display: flex;\n",
       "  flex-direction: column;\n",
       "}\n",
       "\n",
       "#sk-container-id-1 div.sk-parallel-item:first-child::after {\n",
       "  align-self: flex-end;\n",
       "  width: 50%;\n",
       "}\n",
       "\n",
       "#sk-container-id-1 div.sk-parallel-item:last-child::after {\n",
       "  align-self: flex-start;\n",
       "  width: 50%;\n",
       "}\n",
       "\n",
       "#sk-container-id-1 div.sk-parallel-item:only-child::after {\n",
       "  width: 0;\n",
       "}\n",
       "\n",
       "/* Serial-specific style estimator block */\n",
       "\n",
       "#sk-container-id-1 div.sk-serial {\n",
       "  display: flex;\n",
       "  flex-direction: column;\n",
       "  align-items: center;\n",
       "  background-color: var(--sklearn-color-background);\n",
       "  padding-right: 1em;\n",
       "  padding-left: 1em;\n",
       "}\n",
       "\n",
       "\n",
       "/* Toggleable style: style used for estimator/Pipeline/ColumnTransformer box that is\n",
       "clickable and can be expanded/collapsed.\n",
       "- Pipeline and ColumnTransformer use this feature and define the default style\n",
       "- Estimators will overwrite some part of the style using the `sk-estimator` class\n",
       "*/\n",
       "\n",
       "/* Pipeline and ColumnTransformer style (default) */\n",
       "\n",
       "#sk-container-id-1 div.sk-toggleable {\n",
       "  /* Default theme specific background. It is overwritten whether we have a\n",
       "  specific estimator or a Pipeline/ColumnTransformer */\n",
       "  background-color: var(--sklearn-color-background);\n",
       "}\n",
       "\n",
       "/* Toggleable label */\n",
       "#sk-container-id-1 label.sk-toggleable__label {\n",
       "  cursor: pointer;\n",
       "  display: block;\n",
       "  width: 100%;\n",
       "  margin-bottom: 0;\n",
       "  padding: 0.5em;\n",
       "  box-sizing: border-box;\n",
       "  text-align: center;\n",
       "}\n",
       "\n",
       "#sk-container-id-1 label.sk-toggleable__label-arrow:before {\n",
       "  /* Arrow on the left of the label */\n",
       "  content: \"▸\";\n",
       "  float: left;\n",
       "  margin-right: 0.25em;\n",
       "  color: var(--sklearn-color-icon);\n",
       "}\n",
       "\n",
       "#sk-container-id-1 label.sk-toggleable__label-arrow:hover:before {\n",
       "  color: var(--sklearn-color-text);\n",
       "}\n",
       "\n",
       "/* Toggleable content - dropdown */\n",
       "\n",
       "#sk-container-id-1 div.sk-toggleable__content {\n",
       "  max-height: 0;\n",
       "  max-width: 0;\n",
       "  overflow: hidden;\n",
       "  text-align: left;\n",
       "  /* unfitted */\n",
       "  background-color: var(--sklearn-color-unfitted-level-0);\n",
       "}\n",
       "\n",
       "#sk-container-id-1 div.sk-toggleable__content.fitted {\n",
       "  /* fitted */\n",
       "  background-color: var(--sklearn-color-fitted-level-0);\n",
       "}\n",
       "\n",
       "#sk-container-id-1 div.sk-toggleable__content pre {\n",
       "  margin: 0.2em;\n",
       "  border-radius: 0.25em;\n",
       "  color: var(--sklearn-color-text);\n",
       "  /* unfitted */\n",
       "  background-color: var(--sklearn-color-unfitted-level-0);\n",
       "}\n",
       "\n",
       "#sk-container-id-1 div.sk-toggleable__content.fitted pre {\n",
       "  /* unfitted */\n",
       "  background-color: var(--sklearn-color-fitted-level-0);\n",
       "}\n",
       "\n",
       "#sk-container-id-1 input.sk-toggleable__control:checked~div.sk-toggleable__content {\n",
       "  /* Expand drop-down */\n",
       "  max-height: 200px;\n",
       "  max-width: 100%;\n",
       "  overflow: auto;\n",
       "}\n",
       "\n",
       "#sk-container-id-1 input.sk-toggleable__control:checked~label.sk-toggleable__label-arrow:before {\n",
       "  content: \"▾\";\n",
       "}\n",
       "\n",
       "/* Pipeline/ColumnTransformer-specific style */\n",
       "\n",
       "#sk-container-id-1 div.sk-label input.sk-toggleable__control:checked~label.sk-toggleable__label {\n",
       "  color: var(--sklearn-color-text);\n",
       "  background-color: var(--sklearn-color-unfitted-level-2);\n",
       "}\n",
       "\n",
       "#sk-container-id-1 div.sk-label.fitted input.sk-toggleable__control:checked~label.sk-toggleable__label {\n",
       "  background-color: var(--sklearn-color-fitted-level-2);\n",
       "}\n",
       "\n",
       "/* Estimator-specific style */\n",
       "\n",
       "/* Colorize estimator box */\n",
       "#sk-container-id-1 div.sk-estimator input.sk-toggleable__control:checked~label.sk-toggleable__label {\n",
       "  /* unfitted */\n",
       "  background-color: var(--sklearn-color-unfitted-level-2);\n",
       "}\n",
       "\n",
       "#sk-container-id-1 div.sk-estimator.fitted input.sk-toggleable__control:checked~label.sk-toggleable__label {\n",
       "  /* fitted */\n",
       "  background-color: var(--sklearn-color-fitted-level-2);\n",
       "}\n",
       "\n",
       "#sk-container-id-1 div.sk-label label.sk-toggleable__label,\n",
       "#sk-container-id-1 div.sk-label label {\n",
       "  /* The background is the default theme color */\n",
       "  color: var(--sklearn-color-text-on-default-background);\n",
       "}\n",
       "\n",
       "/* On hover, darken the color of the background */\n",
       "#sk-container-id-1 div.sk-label:hover label.sk-toggleable__label {\n",
       "  color: var(--sklearn-color-text);\n",
       "  background-color: var(--sklearn-color-unfitted-level-2);\n",
       "}\n",
       "\n",
       "/* Label box, darken color on hover, fitted */\n",
       "#sk-container-id-1 div.sk-label.fitted:hover label.sk-toggleable__label.fitted {\n",
       "  color: var(--sklearn-color-text);\n",
       "  background-color: var(--sklearn-color-fitted-level-2);\n",
       "}\n",
       "\n",
       "/* Estimator label */\n",
       "\n",
       "#sk-container-id-1 div.sk-label label {\n",
       "  font-family: monospace;\n",
       "  font-weight: bold;\n",
       "  display: inline-block;\n",
       "  line-height: 1.2em;\n",
       "}\n",
       "\n",
       "#sk-container-id-1 div.sk-label-container {\n",
       "  text-align: center;\n",
       "}\n",
       "\n",
       "/* Estimator-specific */\n",
       "#sk-container-id-1 div.sk-estimator {\n",
       "  font-family: monospace;\n",
       "  border: 1px dotted var(--sklearn-color-border-box);\n",
       "  border-radius: 0.25em;\n",
       "  box-sizing: border-box;\n",
       "  margin-bottom: 0.5em;\n",
       "  /* unfitted */\n",
       "  background-color: var(--sklearn-color-unfitted-level-0);\n",
       "}\n",
       "\n",
       "#sk-container-id-1 div.sk-estimator.fitted {\n",
       "  /* fitted */\n",
       "  background-color: var(--sklearn-color-fitted-level-0);\n",
       "}\n",
       "\n",
       "/* on hover */\n",
       "#sk-container-id-1 div.sk-estimator:hover {\n",
       "  /* unfitted */\n",
       "  background-color: var(--sklearn-color-unfitted-level-2);\n",
       "}\n",
       "\n",
       "#sk-container-id-1 div.sk-estimator.fitted:hover {\n",
       "  /* fitted */\n",
       "  background-color: var(--sklearn-color-fitted-level-2);\n",
       "}\n",
       "\n",
       "/* Specification for estimator info (e.g. \"i\" and \"?\") */\n",
       "\n",
       "/* Common style for \"i\" and \"?\" */\n",
       "\n",
       ".sk-estimator-doc-link,\n",
       "a:link.sk-estimator-doc-link,\n",
       "a:visited.sk-estimator-doc-link {\n",
       "  float: right;\n",
       "  font-size: smaller;\n",
       "  line-height: 1em;\n",
       "  font-family: monospace;\n",
       "  background-color: var(--sklearn-color-background);\n",
       "  border-radius: 1em;\n",
       "  height: 1em;\n",
       "  width: 1em;\n",
       "  text-decoration: none !important;\n",
       "  margin-left: 1ex;\n",
       "  /* unfitted */\n",
       "  border: var(--sklearn-color-unfitted-level-1) 1pt solid;\n",
       "  color: var(--sklearn-color-unfitted-level-1);\n",
       "}\n",
       "\n",
       ".sk-estimator-doc-link.fitted,\n",
       "a:link.sk-estimator-doc-link.fitted,\n",
       "a:visited.sk-estimator-doc-link.fitted {\n",
       "  /* fitted */\n",
       "  border: var(--sklearn-color-fitted-level-1) 1pt solid;\n",
       "  color: var(--sklearn-color-fitted-level-1);\n",
       "}\n",
       "\n",
       "/* On hover */\n",
       "div.sk-estimator:hover .sk-estimator-doc-link:hover,\n",
       ".sk-estimator-doc-link:hover,\n",
       "div.sk-label-container:hover .sk-estimator-doc-link:hover,\n",
       ".sk-estimator-doc-link:hover {\n",
       "  /* unfitted */\n",
       "  background-color: var(--sklearn-color-unfitted-level-3);\n",
       "  color: var(--sklearn-color-background);\n",
       "  text-decoration: none;\n",
       "}\n",
       "\n",
       "div.sk-estimator.fitted:hover .sk-estimator-doc-link.fitted:hover,\n",
       ".sk-estimator-doc-link.fitted:hover,\n",
       "div.sk-label-container:hover .sk-estimator-doc-link.fitted:hover,\n",
       ".sk-estimator-doc-link.fitted:hover {\n",
       "  /* fitted */\n",
       "  background-color: var(--sklearn-color-fitted-level-3);\n",
       "  color: var(--sklearn-color-background);\n",
       "  text-decoration: none;\n",
       "}\n",
       "\n",
       "/* Span, style for the box shown on hovering the info icon */\n",
       ".sk-estimator-doc-link span {\n",
       "  display: none;\n",
       "  z-index: 9999;\n",
       "  position: relative;\n",
       "  font-weight: normal;\n",
       "  right: .2ex;\n",
       "  padding: .5ex;\n",
       "  margin: .5ex;\n",
       "  width: min-content;\n",
       "  min-width: 20ex;\n",
       "  max-width: 50ex;\n",
       "  color: var(--sklearn-color-text);\n",
       "  box-shadow: 2pt 2pt 4pt #999;\n",
       "  /* unfitted */\n",
       "  background: var(--sklearn-color-unfitted-level-0);\n",
       "  border: .5pt solid var(--sklearn-color-unfitted-level-3);\n",
       "}\n",
       "\n",
       ".sk-estimator-doc-link.fitted span {\n",
       "  /* fitted */\n",
       "  background: var(--sklearn-color-fitted-level-0);\n",
       "  border: var(--sklearn-color-fitted-level-3);\n",
       "}\n",
       "\n",
       ".sk-estimator-doc-link:hover span {\n",
       "  display: block;\n",
       "}\n",
       "\n",
       "/* \"?\"-specific style due to the `<a>` HTML tag */\n",
       "\n",
       "#sk-container-id-1 a.estimator_doc_link {\n",
       "  float: right;\n",
       "  font-size: 1rem;\n",
       "  line-height: 1em;\n",
       "  font-family: monospace;\n",
       "  background-color: var(--sklearn-color-background);\n",
       "  border-radius: 1rem;\n",
       "  height: 1rem;\n",
       "  width: 1rem;\n",
       "  text-decoration: none;\n",
       "  /* unfitted */\n",
       "  color: var(--sklearn-color-unfitted-level-1);\n",
       "  border: var(--sklearn-color-unfitted-level-1) 1pt solid;\n",
       "}\n",
       "\n",
       "#sk-container-id-1 a.estimator_doc_link.fitted {\n",
       "  /* fitted */\n",
       "  border: var(--sklearn-color-fitted-level-1) 1pt solid;\n",
       "  color: var(--sklearn-color-fitted-level-1);\n",
       "}\n",
       "\n",
       "/* On hover */\n",
       "#sk-container-id-1 a.estimator_doc_link:hover {\n",
       "  /* unfitted */\n",
       "  background-color: var(--sklearn-color-unfitted-level-3);\n",
       "  color: var(--sklearn-color-background);\n",
       "  text-decoration: none;\n",
       "}\n",
       "\n",
       "#sk-container-id-1 a.estimator_doc_link.fitted:hover {\n",
       "  /* fitted */\n",
       "  background-color: var(--sklearn-color-fitted-level-3);\n",
       "}\n",
       "</style><div id=\"sk-container-id-1\" class=\"sk-top-container\"><div class=\"sk-text-repr-fallback\"><pre>LinearSVC(C=10, dual=&#x27;auto&#x27;)</pre><b>In a Jupyter environment, please rerun this cell to show the HTML representation or trust the notebook. <br />On GitHub, the HTML representation is unable to render, please try loading this page with nbviewer.org.</b></div><div class=\"sk-container\" hidden><div class=\"sk-item\"><div class=\"sk-estimator fitted sk-toggleable\"><input class=\"sk-toggleable__control sk-hidden--visually\" id=\"sk-estimator-id-1\" type=\"checkbox\" checked><label for=\"sk-estimator-id-1\" class=\"sk-toggleable__label fitted sk-toggleable__label-arrow fitted\">&nbsp;&nbsp;LinearSVC<a class=\"sk-estimator-doc-link fitted\" rel=\"noreferrer\" target=\"_blank\" href=\"https://scikit-learn.org/1.4/modules/generated/sklearn.svm.LinearSVC.html\">?<span>Documentation for LinearSVC</span></a><span class=\"sk-estimator-doc-link fitted\">i<span>Fitted</span></span></label><div class=\"sk-toggleable__content fitted\"><pre>LinearSVC(C=10, dual=&#x27;auto&#x27;)</pre></div> </div></div></div></div>"
      ],
      "text/plain": [
       "LinearSVC(C=10, dual='auto')"
      ]
     },
     "execution_count": 51,
     "metadata": {},
     "output_type": "execute_result"
    }
   ],
   "source": [
    "svm_clf = LinearSVC(dual=\"auto\")\n",
    "\n",
    "svm_parameters = [{\n",
    "    \"C\": [0.1, 1, 10] \n",
    "}]\n",
    "\n",
    "svm_grid_search = GridSearchCV(svm_clf, svm_parameters, cv=5, scoring=\"accuracy\", return_train_score=True)\n",
    "\n",
    "svm_grid_search.fit(x_train_vectorized, y_train)\n",
    "\n",
    "best_svm = svm_grid_search.best_estimator_\n",
    "\n",
    "best_svm"
   ]
  },
  {
   "cell_type": "code",
   "execution_count": 52,
   "id": "764219a0-ab84-41d1-a682-cd511ea0710e",
   "metadata": {},
   "outputs": [
    {
     "name": "stdout",
     "output_type": "stream",
     "text": [
      "The accuracy of the best performing support vector machines is: 0.96705\n"
     ]
    }
   ],
   "source": [
    "svm_acc = best_svm.score(x_val_vectorized,y_val)\n",
    "print(f\"The accuracy of the best performing support vector machines is: {svm_acc}\")"
   ]
  },
  {
   "cell_type": "markdown",
   "id": "5d07aa7a-a598-4f9b-ad6a-3d7a7396ab93",
   "metadata": {},
   "source": [
    "### Logistic Regression"
   ]
  },
  {
   "cell_type": "code",
   "execution_count": 53,
   "id": "26df236d-2696-43fb-aebe-d42a902ab199",
   "metadata": {},
   "outputs": [
    {
     "data": {
      "text/html": [
       "<style>#sk-container-id-2 {\n",
       "  /* Definition of color scheme common for light and dark mode */\n",
       "  --sklearn-color-text: black;\n",
       "  --sklearn-color-line: gray;\n",
       "  /* Definition of color scheme for unfitted estimators */\n",
       "  --sklearn-color-unfitted-level-0: #fff5e6;\n",
       "  --sklearn-color-unfitted-level-1: #f6e4d2;\n",
       "  --sklearn-color-unfitted-level-2: #ffe0b3;\n",
       "  --sklearn-color-unfitted-level-3: chocolate;\n",
       "  /* Definition of color scheme for fitted estimators */\n",
       "  --sklearn-color-fitted-level-0: #f0f8ff;\n",
       "  --sklearn-color-fitted-level-1: #d4ebff;\n",
       "  --sklearn-color-fitted-level-2: #b3dbfd;\n",
       "  --sklearn-color-fitted-level-3: cornflowerblue;\n",
       "\n",
       "  /* Specific color for light theme */\n",
       "  --sklearn-color-text-on-default-background: var(--sg-text-color, var(--theme-code-foreground, var(--jp-content-font-color1, black)));\n",
       "  --sklearn-color-background: var(--sg-background-color, var(--theme-background, var(--jp-layout-color0, white)));\n",
       "  --sklearn-color-border-box: var(--sg-text-color, var(--theme-code-foreground, var(--jp-content-font-color1, black)));\n",
       "  --sklearn-color-icon: #696969;\n",
       "\n",
       "  @media (prefers-color-scheme: dark) {\n",
       "    /* Redefinition of color scheme for dark theme */\n",
       "    --sklearn-color-text-on-default-background: var(--sg-text-color, var(--theme-code-foreground, var(--jp-content-font-color1, white)));\n",
       "    --sklearn-color-background: var(--sg-background-color, var(--theme-background, var(--jp-layout-color0, #111)));\n",
       "    --sklearn-color-border-box: var(--sg-text-color, var(--theme-code-foreground, var(--jp-content-font-color1, white)));\n",
       "    --sklearn-color-icon: #878787;\n",
       "  }\n",
       "}\n",
       "\n",
       "#sk-container-id-2 {\n",
       "  color: var(--sklearn-color-text);\n",
       "}\n",
       "\n",
       "#sk-container-id-2 pre {\n",
       "  padding: 0;\n",
       "}\n",
       "\n",
       "#sk-container-id-2 input.sk-hidden--visually {\n",
       "  border: 0;\n",
       "  clip: rect(1px 1px 1px 1px);\n",
       "  clip: rect(1px, 1px, 1px, 1px);\n",
       "  height: 1px;\n",
       "  margin: -1px;\n",
       "  overflow: hidden;\n",
       "  padding: 0;\n",
       "  position: absolute;\n",
       "  width: 1px;\n",
       "}\n",
       "\n",
       "#sk-container-id-2 div.sk-dashed-wrapped {\n",
       "  border: 1px dashed var(--sklearn-color-line);\n",
       "  margin: 0 0.4em 0.5em 0.4em;\n",
       "  box-sizing: border-box;\n",
       "  padding-bottom: 0.4em;\n",
       "  background-color: var(--sklearn-color-background);\n",
       "}\n",
       "\n",
       "#sk-container-id-2 div.sk-container {\n",
       "  /* jupyter's `normalize.less` sets `[hidden] { display: none; }`\n",
       "     but bootstrap.min.css set `[hidden] { display: none !important; }`\n",
       "     so we also need the `!important` here to be able to override the\n",
       "     default hidden behavior on the sphinx rendered scikit-learn.org.\n",
       "     See: https://github.com/scikit-learn/scikit-learn/issues/21755 */\n",
       "  display: inline-block !important;\n",
       "  position: relative;\n",
       "}\n",
       "\n",
       "#sk-container-id-2 div.sk-text-repr-fallback {\n",
       "  display: none;\n",
       "}\n",
       "\n",
       "div.sk-parallel-item,\n",
       "div.sk-serial,\n",
       "div.sk-item {\n",
       "  /* draw centered vertical line to link estimators */\n",
       "  background-image: linear-gradient(var(--sklearn-color-text-on-default-background), var(--sklearn-color-text-on-default-background));\n",
       "  background-size: 2px 100%;\n",
       "  background-repeat: no-repeat;\n",
       "  background-position: center center;\n",
       "}\n",
       "\n",
       "/* Parallel-specific style estimator block */\n",
       "\n",
       "#sk-container-id-2 div.sk-parallel-item::after {\n",
       "  content: \"\";\n",
       "  width: 100%;\n",
       "  border-bottom: 2px solid var(--sklearn-color-text-on-default-background);\n",
       "  flex-grow: 1;\n",
       "}\n",
       "\n",
       "#sk-container-id-2 div.sk-parallel {\n",
       "  display: flex;\n",
       "  align-items: stretch;\n",
       "  justify-content: center;\n",
       "  background-color: var(--sklearn-color-background);\n",
       "  position: relative;\n",
       "}\n",
       "\n",
       "#sk-container-id-2 div.sk-parallel-item {\n",
       "  display: flex;\n",
       "  flex-direction: column;\n",
       "}\n",
       "\n",
       "#sk-container-id-2 div.sk-parallel-item:first-child::after {\n",
       "  align-self: flex-end;\n",
       "  width: 50%;\n",
       "}\n",
       "\n",
       "#sk-container-id-2 div.sk-parallel-item:last-child::after {\n",
       "  align-self: flex-start;\n",
       "  width: 50%;\n",
       "}\n",
       "\n",
       "#sk-container-id-2 div.sk-parallel-item:only-child::after {\n",
       "  width: 0;\n",
       "}\n",
       "\n",
       "/* Serial-specific style estimator block */\n",
       "\n",
       "#sk-container-id-2 div.sk-serial {\n",
       "  display: flex;\n",
       "  flex-direction: column;\n",
       "  align-items: center;\n",
       "  background-color: var(--sklearn-color-background);\n",
       "  padding-right: 1em;\n",
       "  padding-left: 1em;\n",
       "}\n",
       "\n",
       "\n",
       "/* Toggleable style: style used for estimator/Pipeline/ColumnTransformer box that is\n",
       "clickable and can be expanded/collapsed.\n",
       "- Pipeline and ColumnTransformer use this feature and define the default style\n",
       "- Estimators will overwrite some part of the style using the `sk-estimator` class\n",
       "*/\n",
       "\n",
       "/* Pipeline and ColumnTransformer style (default) */\n",
       "\n",
       "#sk-container-id-2 div.sk-toggleable {\n",
       "  /* Default theme specific background. It is overwritten whether we have a\n",
       "  specific estimator or a Pipeline/ColumnTransformer */\n",
       "  background-color: var(--sklearn-color-background);\n",
       "}\n",
       "\n",
       "/* Toggleable label */\n",
       "#sk-container-id-2 label.sk-toggleable__label {\n",
       "  cursor: pointer;\n",
       "  display: block;\n",
       "  width: 100%;\n",
       "  margin-bottom: 0;\n",
       "  padding: 0.5em;\n",
       "  box-sizing: border-box;\n",
       "  text-align: center;\n",
       "}\n",
       "\n",
       "#sk-container-id-2 label.sk-toggleable__label-arrow:before {\n",
       "  /* Arrow on the left of the label */\n",
       "  content: \"▸\";\n",
       "  float: left;\n",
       "  margin-right: 0.25em;\n",
       "  color: var(--sklearn-color-icon);\n",
       "}\n",
       "\n",
       "#sk-container-id-2 label.sk-toggleable__label-arrow:hover:before {\n",
       "  color: var(--sklearn-color-text);\n",
       "}\n",
       "\n",
       "/* Toggleable content - dropdown */\n",
       "\n",
       "#sk-container-id-2 div.sk-toggleable__content {\n",
       "  max-height: 0;\n",
       "  max-width: 0;\n",
       "  overflow: hidden;\n",
       "  text-align: left;\n",
       "  /* unfitted */\n",
       "  background-color: var(--sklearn-color-unfitted-level-0);\n",
       "}\n",
       "\n",
       "#sk-container-id-2 div.sk-toggleable__content.fitted {\n",
       "  /* fitted */\n",
       "  background-color: var(--sklearn-color-fitted-level-0);\n",
       "}\n",
       "\n",
       "#sk-container-id-2 div.sk-toggleable__content pre {\n",
       "  margin: 0.2em;\n",
       "  border-radius: 0.25em;\n",
       "  color: var(--sklearn-color-text);\n",
       "  /* unfitted */\n",
       "  background-color: var(--sklearn-color-unfitted-level-0);\n",
       "}\n",
       "\n",
       "#sk-container-id-2 div.sk-toggleable__content.fitted pre {\n",
       "  /* unfitted */\n",
       "  background-color: var(--sklearn-color-fitted-level-0);\n",
       "}\n",
       "\n",
       "#sk-container-id-2 input.sk-toggleable__control:checked~div.sk-toggleable__content {\n",
       "  /* Expand drop-down */\n",
       "  max-height: 200px;\n",
       "  max-width: 100%;\n",
       "  overflow: auto;\n",
       "}\n",
       "\n",
       "#sk-container-id-2 input.sk-toggleable__control:checked~label.sk-toggleable__label-arrow:before {\n",
       "  content: \"▾\";\n",
       "}\n",
       "\n",
       "/* Pipeline/ColumnTransformer-specific style */\n",
       "\n",
       "#sk-container-id-2 div.sk-label input.sk-toggleable__control:checked~label.sk-toggleable__label {\n",
       "  color: var(--sklearn-color-text);\n",
       "  background-color: var(--sklearn-color-unfitted-level-2);\n",
       "}\n",
       "\n",
       "#sk-container-id-2 div.sk-label.fitted input.sk-toggleable__control:checked~label.sk-toggleable__label {\n",
       "  background-color: var(--sklearn-color-fitted-level-2);\n",
       "}\n",
       "\n",
       "/* Estimator-specific style */\n",
       "\n",
       "/* Colorize estimator box */\n",
       "#sk-container-id-2 div.sk-estimator input.sk-toggleable__control:checked~label.sk-toggleable__label {\n",
       "  /* unfitted */\n",
       "  background-color: var(--sklearn-color-unfitted-level-2);\n",
       "}\n",
       "\n",
       "#sk-container-id-2 div.sk-estimator.fitted input.sk-toggleable__control:checked~label.sk-toggleable__label {\n",
       "  /* fitted */\n",
       "  background-color: var(--sklearn-color-fitted-level-2);\n",
       "}\n",
       "\n",
       "#sk-container-id-2 div.sk-label label.sk-toggleable__label,\n",
       "#sk-container-id-2 div.sk-label label {\n",
       "  /* The background is the default theme color */\n",
       "  color: var(--sklearn-color-text-on-default-background);\n",
       "}\n",
       "\n",
       "/* On hover, darken the color of the background */\n",
       "#sk-container-id-2 div.sk-label:hover label.sk-toggleable__label {\n",
       "  color: var(--sklearn-color-text);\n",
       "  background-color: var(--sklearn-color-unfitted-level-2);\n",
       "}\n",
       "\n",
       "/* Label box, darken color on hover, fitted */\n",
       "#sk-container-id-2 div.sk-label.fitted:hover label.sk-toggleable__label.fitted {\n",
       "  color: var(--sklearn-color-text);\n",
       "  background-color: var(--sklearn-color-fitted-level-2);\n",
       "}\n",
       "\n",
       "/* Estimator label */\n",
       "\n",
       "#sk-container-id-2 div.sk-label label {\n",
       "  font-family: monospace;\n",
       "  font-weight: bold;\n",
       "  display: inline-block;\n",
       "  line-height: 1.2em;\n",
       "}\n",
       "\n",
       "#sk-container-id-2 div.sk-label-container {\n",
       "  text-align: center;\n",
       "}\n",
       "\n",
       "/* Estimator-specific */\n",
       "#sk-container-id-2 div.sk-estimator {\n",
       "  font-family: monospace;\n",
       "  border: 1px dotted var(--sklearn-color-border-box);\n",
       "  border-radius: 0.25em;\n",
       "  box-sizing: border-box;\n",
       "  margin-bottom: 0.5em;\n",
       "  /* unfitted */\n",
       "  background-color: var(--sklearn-color-unfitted-level-0);\n",
       "}\n",
       "\n",
       "#sk-container-id-2 div.sk-estimator.fitted {\n",
       "  /* fitted */\n",
       "  background-color: var(--sklearn-color-fitted-level-0);\n",
       "}\n",
       "\n",
       "/* on hover */\n",
       "#sk-container-id-2 div.sk-estimator:hover {\n",
       "  /* unfitted */\n",
       "  background-color: var(--sklearn-color-unfitted-level-2);\n",
       "}\n",
       "\n",
       "#sk-container-id-2 div.sk-estimator.fitted:hover {\n",
       "  /* fitted */\n",
       "  background-color: var(--sklearn-color-fitted-level-2);\n",
       "}\n",
       "\n",
       "/* Specification for estimator info (e.g. \"i\" and \"?\") */\n",
       "\n",
       "/* Common style for \"i\" and \"?\" */\n",
       "\n",
       ".sk-estimator-doc-link,\n",
       "a:link.sk-estimator-doc-link,\n",
       "a:visited.sk-estimator-doc-link {\n",
       "  float: right;\n",
       "  font-size: smaller;\n",
       "  line-height: 1em;\n",
       "  font-family: monospace;\n",
       "  background-color: var(--sklearn-color-background);\n",
       "  border-radius: 1em;\n",
       "  height: 1em;\n",
       "  width: 1em;\n",
       "  text-decoration: none !important;\n",
       "  margin-left: 1ex;\n",
       "  /* unfitted */\n",
       "  border: var(--sklearn-color-unfitted-level-1) 1pt solid;\n",
       "  color: var(--sklearn-color-unfitted-level-1);\n",
       "}\n",
       "\n",
       ".sk-estimator-doc-link.fitted,\n",
       "a:link.sk-estimator-doc-link.fitted,\n",
       "a:visited.sk-estimator-doc-link.fitted {\n",
       "  /* fitted */\n",
       "  border: var(--sklearn-color-fitted-level-1) 1pt solid;\n",
       "  color: var(--sklearn-color-fitted-level-1);\n",
       "}\n",
       "\n",
       "/* On hover */\n",
       "div.sk-estimator:hover .sk-estimator-doc-link:hover,\n",
       ".sk-estimator-doc-link:hover,\n",
       "div.sk-label-container:hover .sk-estimator-doc-link:hover,\n",
       ".sk-estimator-doc-link:hover {\n",
       "  /* unfitted */\n",
       "  background-color: var(--sklearn-color-unfitted-level-3);\n",
       "  color: var(--sklearn-color-background);\n",
       "  text-decoration: none;\n",
       "}\n",
       "\n",
       "div.sk-estimator.fitted:hover .sk-estimator-doc-link.fitted:hover,\n",
       ".sk-estimator-doc-link.fitted:hover,\n",
       "div.sk-label-container:hover .sk-estimator-doc-link.fitted:hover,\n",
       ".sk-estimator-doc-link.fitted:hover {\n",
       "  /* fitted */\n",
       "  background-color: var(--sklearn-color-fitted-level-3);\n",
       "  color: var(--sklearn-color-background);\n",
       "  text-decoration: none;\n",
       "}\n",
       "\n",
       "/* Span, style for the box shown on hovering the info icon */\n",
       ".sk-estimator-doc-link span {\n",
       "  display: none;\n",
       "  z-index: 9999;\n",
       "  position: relative;\n",
       "  font-weight: normal;\n",
       "  right: .2ex;\n",
       "  padding: .5ex;\n",
       "  margin: .5ex;\n",
       "  width: min-content;\n",
       "  min-width: 20ex;\n",
       "  max-width: 50ex;\n",
       "  color: var(--sklearn-color-text);\n",
       "  box-shadow: 2pt 2pt 4pt #999;\n",
       "  /* unfitted */\n",
       "  background: var(--sklearn-color-unfitted-level-0);\n",
       "  border: .5pt solid var(--sklearn-color-unfitted-level-3);\n",
       "}\n",
       "\n",
       ".sk-estimator-doc-link.fitted span {\n",
       "  /* fitted */\n",
       "  background: var(--sklearn-color-fitted-level-0);\n",
       "  border: var(--sklearn-color-fitted-level-3);\n",
       "}\n",
       "\n",
       ".sk-estimator-doc-link:hover span {\n",
       "  display: block;\n",
       "}\n",
       "\n",
       "/* \"?\"-specific style due to the `<a>` HTML tag */\n",
       "\n",
       "#sk-container-id-2 a.estimator_doc_link {\n",
       "  float: right;\n",
       "  font-size: 1rem;\n",
       "  line-height: 1em;\n",
       "  font-family: monospace;\n",
       "  background-color: var(--sklearn-color-background);\n",
       "  border-radius: 1rem;\n",
       "  height: 1rem;\n",
       "  width: 1rem;\n",
       "  text-decoration: none;\n",
       "  /* unfitted */\n",
       "  color: var(--sklearn-color-unfitted-level-1);\n",
       "  border: var(--sklearn-color-unfitted-level-1) 1pt solid;\n",
       "}\n",
       "\n",
       "#sk-container-id-2 a.estimator_doc_link.fitted {\n",
       "  /* fitted */\n",
       "  border: var(--sklearn-color-fitted-level-1) 1pt solid;\n",
       "  color: var(--sklearn-color-fitted-level-1);\n",
       "}\n",
       "\n",
       "/* On hover */\n",
       "#sk-container-id-2 a.estimator_doc_link:hover {\n",
       "  /* unfitted */\n",
       "  background-color: var(--sklearn-color-unfitted-level-3);\n",
       "  color: var(--sklearn-color-background);\n",
       "  text-decoration: none;\n",
       "}\n",
       "\n",
       "#sk-container-id-2 a.estimator_doc_link.fitted:hover {\n",
       "  /* fitted */\n",
       "  background-color: var(--sklearn-color-fitted-level-3);\n",
       "}\n",
       "</style><div id=\"sk-container-id-2\" class=\"sk-top-container\"><div class=\"sk-text-repr-fallback\"><pre>LogisticRegression(C=10)</pre><b>In a Jupyter environment, please rerun this cell to show the HTML representation or trust the notebook. <br />On GitHub, the HTML representation is unable to render, please try loading this page with nbviewer.org.</b></div><div class=\"sk-container\" hidden><div class=\"sk-item\"><div class=\"sk-estimator fitted sk-toggleable\"><input class=\"sk-toggleable__control sk-hidden--visually\" id=\"sk-estimator-id-2\" type=\"checkbox\" checked><label for=\"sk-estimator-id-2\" class=\"sk-toggleable__label fitted sk-toggleable__label-arrow fitted\">&nbsp;&nbsp;LogisticRegression<a class=\"sk-estimator-doc-link fitted\" rel=\"noreferrer\" target=\"_blank\" href=\"https://scikit-learn.org/1.4/modules/generated/sklearn.linear_model.LogisticRegression.html\">?<span>Documentation for LogisticRegression</span></a><span class=\"sk-estimator-doc-link fitted\">i<span>Fitted</span></span></label><div class=\"sk-toggleable__content fitted\"><pre>LogisticRegression(C=10)</pre></div> </div></div></div></div>"
      ],
      "text/plain": [
       "LogisticRegression(C=10)"
      ]
     },
     "execution_count": 53,
     "metadata": {},
     "output_type": "execute_result"
    }
   ],
   "source": [
    "lr_clf = LogisticRegression()\n",
    "\n",
    "lr_parameters = [{\n",
    "    \"C\": [10]\n",
    "}]\n",
    "\n",
    "lr_grid_search = GridSearchCV(lr_clf, lr_parameters, cv=5, scoring=\"accuracy\", return_train_score=True)\n",
    "\n",
    "lr_grid_search.fit(x_train_vectorized, y_train)\n",
    "\n",
    "best_lr = lr_grid_search.best_estimator_\n",
    "\n",
    "best_lr"
   ]
  },
  {
   "cell_type": "code",
   "execution_count": 54,
   "id": "9bbceab7-6c98-4bb4-8129-f89533e4d338",
   "metadata": {},
   "outputs": [
    {
     "name": "stdout",
     "output_type": "stream",
     "text": [
      "The accuracy of the best performing logistic regression classifer is: 0.9589\n"
     ]
    }
   ],
   "source": [
    "lr_acc = best_lr.score(x_val_vectorized,y_val)\n",
    "print(f\"The accuracy of the best performing logistic regression classifer is: {lr_acc}\")"
   ]
  },
  {
   "cell_type": "markdown",
   "id": "4a3a6963-f928-4eca-9e2b-6e3a84c48141",
   "metadata": {},
   "source": [
    "# Part 4: Evaluation"
   ]
  },
  {
   "cell_type": "markdown",
   "id": "65f7aeec-a3d0-416c-b199-9056838d5471",
   "metadata": {},
   "source": [
    "## Task 1 (Evaluation on FakeNewsCorpus test set)"
   ]
  },
  {
   "cell_type": "code",
   "execution_count": 55,
   "id": "18dab367-5e19-485c-bf5f-32df0cf3887a",
   "metadata": {},
   "outputs": [],
   "source": [
    "#Preparation of test data\n",
    "x_test_vectorized = vectorizer.transform(x_test)\n",
    "y_test = y_test.astype('int64')"
   ]
  },
  {
   "cell_type": "markdown",
   "id": "4e82249a-f7aa-48f9-88d9-7229b63d7bfa",
   "metadata": {},
   "source": [
    "### Evaluation of simple models"
   ]
  },
  {
   "cell_type": "code",
   "execution_count": 56,
   "id": "6f80f6d9-e19f-4275-bffc-c33f4c0f7223",
   "metadata": {},
   "outputs": [],
   "source": [
    "# Baseline models\n",
    "def random_guesser(x):\n",
    "    return random.choice([0, 1])\n",
    "\n",
    "def always_1(x):\n",
    "    return 1"
   ]
  },
  {
   "cell_type": "code",
   "execution_count": 57,
   "id": "79ea472e-ca25-4960-923d-0aa8df1725e2",
   "metadata": {},
   "outputs": [
    {
     "name": "stderr",
     "output_type": "stream",
     "text": [
      "/Users/vang/miniconda3/lib/python3.11/site-packages/sklearn/metrics/_classification.py:1497: UndefinedMetricWarning: Precision is ill-defined and being set to 0.0 in labels with no predicted samples. Use `zero_division` parameter to control this behavior.\n",
      "  _warn_prf(average, modifier, f\"{metric.capitalize()} is\", len(result))\n",
      "/Users/vang/miniconda3/lib/python3.11/site-packages/sklearn/metrics/_classification.py:1497: UndefinedMetricWarning: Precision is ill-defined and being set to 0.0 in labels with no predicted samples. Use `zero_division` parameter to control this behavior.\n",
      "  _warn_prf(average, modifier, f\"{metric.capitalize()} is\", len(result))\n",
      "/Users/vang/miniconda3/lib/python3.11/site-packages/sklearn/metrics/_classification.py:1497: UndefinedMetricWarning: Precision is ill-defined and being set to 0.0 in labels with no predicted samples. Use `zero_division` parameter to control this behavior.\n",
      "  _warn_prf(average, modifier, f\"{metric.capitalize()} is\", len(result))\n"
     ]
    }
   ],
   "source": [
    "# Make predictions using baseline models\n",
    "y_pred_random = [random_guesser(x) for x in x_test_vectorized]\n",
    "y_pred_always_1 = [always_1(x) for x in x_test_vectorized]\n",
    "\n",
    "# Generate classification reports\n",
    "report_random = classification_report(y_test, y_pred_random, output_dict=True)\n",
    "report_always_1 = classification_report(y_test, y_pred_always_1, output_dict=True)"
   ]
  },
  {
   "cell_type": "code",
   "execution_count": 58,
   "id": "4c6c382c-4766-489e-ab73-b5286e7f3e06",
   "metadata": {},
   "outputs": [
    {
     "data": {
      "text/plain": [
       "{'precision': 0.5042845755280988,\n",
       " 'recall': 0.5035820895522388,\n",
       " 'f1-score': 0.503933087722792,\n",
       " 'support': 10050.0}"
      ]
     },
     "execution_count": 58,
     "metadata": {},
     "output_type": "execute_result"
    }
   ],
   "source": [
    "report_random['1']"
   ]
  },
  {
   "cell_type": "code",
   "execution_count": 59,
   "id": "fab0012b-d592-441c-aa6f-7852380e9314",
   "metadata": {},
   "outputs": [
    {
     "data": {
      "text/plain": [
       "{'precision': 0.5025,\n",
       " 'recall': 1.0,\n",
       " 'f1-score': 0.6688851913477537,\n",
       " 'support': 10050.0}"
      ]
     },
     "execution_count": 59,
     "metadata": {},
     "output_type": "execute_result"
    }
   ],
   "source": [
    "report_always_1['1']"
   ]
  },
  {
   "cell_type": "markdown",
   "id": "32582561-9d24-4590-a1e3-e7f7cd0095c4",
   "metadata": {},
   "source": [
    "### Evaluation of SVM"
   ]
  },
  {
   "cell_type": "code",
   "execution_count": 60,
   "id": "d3c6f488-13f8-4a60-a587-8109c66f7202",
   "metadata": {},
   "outputs": [
    {
     "data": {
      "text/plain": [
       "0.9685384309040223"
      ]
     },
     "execution_count": 60,
     "metadata": {},
     "output_type": "execute_result"
    }
   ],
   "source": [
    "svm_y_pred = best_svm.predict(x_test_vectorized)\n",
    "f1_score(y_test, svm_y_pred)"
   ]
  },
  {
   "cell_type": "code",
   "execution_count": 61,
   "id": "1ba37c80-162b-4c91-abaa-797c4d87c545",
   "metadata": {},
   "outputs": [
    {
     "data": {
      "image/png": "[encoded data removed]",
      "text/plain": [
       "<Figure size 640x480 with 2 Axes>"
      ]
     },
     "metadata": {},
     "output_type": "display_data"
    }
   ],
   "source": [
    "#Confusion matrix for SVM\n",
    "cm_svm = confusion_matrix(y_test, svm_y_pred, labels=best_svm.classes_)\n",
    "disp_svm = ConfusionMatrixDisplay(confusion_matrix=cm_svm, display_labels=best_svm.classes_)\n",
    "disp_svm.plot()\n",
    "plt.savefig('svm_confusion_matrix.png')\n",
    "plt.show()"
   ]
  },
  {
   "cell_type": "code",
   "execution_count": 62,
   "id": "7035eb68-691c-4a48-a3bb-c47f1aa65b03",
   "metadata": {},
   "outputs": [
    {
     "data": {
      "text/plain": [
       "{'precision': 0.9691173540545925,\n",
       " 'recall': 0.9679601990049751,\n",
       " 'f1-score': 0.9685384309040223,\n",
       " 'support': 10050.0}"
      ]
     },
     "execution_count": 62,
     "metadata": {},
     "output_type": "execute_result"
    }
   ],
   "source": [
    "# Classification report for SVM\n",
    "svm_report = classification_report(y_test, svm_y_pred, output_dict = True)\n",
    "svm_report['1'] # fake"
   ]
  },
  {
   "cell_type": "code",
   "execution_count": 63,
   "id": "72a82a6b-8528-4ee3-a9c1-5e328133d830",
   "metadata": {},
   "outputs": [
    {
     "data": {
      "text/plain": [
       "{'precision': 0.9676771732583819,\n",
       " 'recall': 0.9688442211055276,\n",
       " 'f1-score': 0.9682603455202893,\n",
       " 'support': 9950.0}"
      ]
     },
     "execution_count": 63,
     "metadata": {},
     "output_type": "execute_result"
    }
   ],
   "source": [
    "svm_report['0'] # reliable"
   ]
  },
  {
   "cell_type": "markdown",
   "id": "1017b726-860c-4109-b5b3-52b8b4b36434",
   "metadata": {},
   "source": [
    "### Evaluation of Logistic Regression"
   ]
  },
  {
   "cell_type": "code",
   "execution_count": 64,
   "id": "130af71f-2fb2-4157-8d35-1332deb37860",
   "metadata": {},
   "outputs": [
    {
     "data": {
      "text/plain": [
       "0.9588018708329187"
      ]
     },
     "execution_count": 64,
     "metadata": {},
     "output_type": "execute_result"
    }
   ],
   "source": [
    "lr_y_pred = best_lr.predict(x_test_vectorized)\n",
    "f1_score(y_test, lr_y_pred)"
   ]
  },
  {
   "cell_type": "code",
   "execution_count": 65,
   "id": "724b1d24-72f4-4e4f-9666-d5fc06ff8165",
   "metadata": {},
   "outputs": [
    {
     "data": {
      "image/png": "[encoded data removed]",
      "text/plain": [
       "<Figure size 640x480 with 2 Axes>"
      ]
     },
     "metadata": {},
     "output_type": "display_data"
    }
   ],
   "source": [
    "#Confusion matrix for LR\n",
    "cm_lr = confusion_matrix(y_test, lr_y_pred, labels=best_lr.classes_)\n",
    "disp_lr = ConfusionMatrixDisplay(confusion_matrix=cm_lr, display_labels=best_lr.classes_)\n",
    "disp_lr.plot()\n",
    "plt.savefig('lr_confusion_matrix.png')\n",
    "plt.show()"
   ]
  },
  {
   "cell_type": "code",
   "execution_count": 66,
   "id": "b4f1cddc-bfba-4458-8db1-939e6505984b",
   "metadata": {},
   "outputs": [
    {
     "data": {
      "text/plain": [
       "{'precision': 0.9588972929936306,\n",
       " 'recall': 0.9587064676616915,\n",
       " 'f1-score': 0.9588018708329187,\n",
       " 'support': 10050.0}"
      ]
     },
     "execution_count": 66,
     "metadata": {},
     "output_type": "execute_result"
    }
   ],
   "source": [
    "# Classification report for LR\n",
    "lr_report = classification_report(y_test, lr_y_pred, output_dict = True)\n",
    "lr_report['1'] # fake"
   ]
  },
  {
   "cell_type": "code",
   "execution_count": 67,
   "id": "5420db53-b6b3-4208-8456-8a5bb992c09d",
   "metadata": {},
   "outputs": [
    {
     "data": {
      "text/plain": [
       "{'precision': 0.9582998392282959,\n",
       " 'recall': 0.9584924623115578,\n",
       " 'f1-score': 0.9583961410913476,\n",
       " 'support': 9950.0}"
      ]
     },
     "execution_count": 67,
     "metadata": {},
     "output_type": "execute_result"
    }
   ],
   "source": [
    "lr_report['0'] # reliable"
   ]
  },
  {
   "cell_type": "markdown",
   "id": "b6067c8a-5399-440d-99c6-bcf1129d0b46",
   "metadata": {},
   "source": [
    "## Task 2 (Evaluation on LIAR test set)"
   ]
  },
  {
   "cell_type": "code",
   "execution_count": 68,
   "id": "b2a839f5-4369-4125-a6d4-a15604f97c95",
   "metadata": {},
   "outputs": [
    {
     "data": {
      "text/plain": [
       "(1267, 14)"
      ]
     },
     "execution_count": 68,
     "metadata": {},
     "output_type": "execute_result"
    }
   ],
   "source": [
    "# Read LIAR test set\n",
    "liar_df = pd.read_csv('test.tsv', sep='\\t', names=['id','label','statement','subject','speaker','speakers job','state info', 'party','credit1','credit2','credit3','credit4','credit5','context'])\n",
    "liar_df.shape"
   ]
  },
  {
   "cell_type": "code",
   "execution_count": 69,
   "id": "2052607a-f3a1-4fc1-9a5b-e509453d1704",
   "metadata": {},
   "outputs": [
    {
     "name": "stdout",
     "output_type": "stream",
     "text": [
      "{'true': 208, 'mostly-true': 241, 'half-true': 265, 'barely-true': 212, 'pants-fire': 92, 'false': 249, 'nan': 0}\n"
     ]
    }
   ],
   "source": [
    "# Plot distribution over labels\n",
    "type_names = ['true','mostly-true','half-true','barely-true','pants-fire','false']\n",
    "\n",
    "type_counts = {}\n",
    "for type_name in type_names:\n",
    "    count = liar_df['label'].value_counts()[type_name]\n",
    "    type_counts[type_name] = count\n",
    "\n",
    "count_nan = liar_df[\"label\"].isna().sum()\n",
    "type_counts['nan'] = count_nan\n",
    "print(type_counts)"
   ]
  },
  {
   "cell_type": "code",
   "execution_count": 70,
   "id": "898a9563-5119-447a-a7d4-71bc886d0d23",
   "metadata": {},
   "outputs": [
    {
     "data": {
      "image/png": "[encoded data removed]",
      "text/plain": [
       "<Figure size 640x480 with 1 Axes>"
      ]
     },
     "metadata": {},
     "output_type": "display_data"
    }
   ],
   "source": [
    "plt.bar(list(type_counts.keys()), type_counts.values(),color='g')\n",
    "plt.xticks(rotation=90)\n",
    "plt.show()"
   ]
  },
  {
   "cell_type": "code",
   "execution_count": 71,
   "id": "49bf40d9-e61d-4422-8505-117ab163780e",
   "metadata": {},
   "outputs": [],
   "source": [
    "#Pre-process\n",
    "liar_df_v02 = liar_df[liar_df['label'].isin(['true','false'])]\n",
    "liar_df_v03 = liar_df_v02.drop(['id','subject','speaker','speakers job','state info', 'party','credit1','credit2','credit3','credit4','credit5','context'],axis=1)\n",
    "liar_df_v03.loc[:, \"label\"] = liar_df_v03.loc[:, \"label\"].apply(lambda x: 0 if x==\"true\" else 1)"
   ]
  },
  {
   "cell_type": "code",
   "execution_count": 72,
   "id": "7d04cdd8-3b1d-4934-9b29-078941af793c",
   "metadata": {},
   "outputs": [],
   "source": [
    "# pick out articles that are 'true' and 'false' and assign to new dataframes\n",
    "dataframe_true = liar_df_v03[liar_df_v03['label'] == 0]\n",
    "dataframe_false = liar_df_v03[liar_df_v03['label'] == 1]\n",
    "\n",
    "# sample 200 from each dataset\n",
    "dataframe_true = dataframe_true.sample(n=200, random_state=42)\n",
    "dataframe_false = dataframe_false.sample(n=200, random_state=42)\n",
    "\n",
    "# concatenate the two datasets to form a new balanced dataset\n",
    "liar_df_v04 = pd.concat([dataframe_true, dataframe_false])"
   ]
  },
  {
   "cell_type": "code",
   "execution_count": 73,
   "id": "28a1cb87-39dc-4641-8614-6bf2b61a08e4",
   "metadata": {},
   "outputs": [],
   "source": [
    "#Tf-idf\n",
    "x_liar, y_liar = liar_df_v04['statement'], liar_df_v04['label']\n",
    "x_liar_vectorized = vectorizer.transform(x_liar)"
   ]
  },
  {
   "cell_type": "code",
   "execution_count": 74,
   "id": "73d3b62d-add7-4649-badc-acbd899eee00",
   "metadata": {},
   "outputs": [],
   "source": [
    "y_liar = y_liar.astype('int64')"
   ]
  },
  {
   "cell_type": "markdown",
   "id": "d616bb6d-f7d8-4ce1-9c85-31dd0b43fdfc",
   "metadata": {},
   "source": [
    "### Evaluation of baseline models on LIAR"
   ]
  },
  {
   "cell_type": "code",
   "execution_count": 75,
   "id": "75b90773-8a96-4d24-b4f4-61e15b3c83a4",
   "metadata": {},
   "outputs": [
    {
     "name": "stderr",
     "output_type": "stream",
     "text": [
      "/Users/vang/miniconda3/lib/python3.11/site-packages/sklearn/metrics/_classification.py:1497: UndefinedMetricWarning: Precision is ill-defined and being set to 0.0 in labels with no predicted samples. Use `zero_division` parameter to control this behavior.\n",
      "  _warn_prf(average, modifier, f\"{metric.capitalize()} is\", len(result))\n",
      "/Users/vang/miniconda3/lib/python3.11/site-packages/sklearn/metrics/_classification.py:1497: UndefinedMetricWarning: Precision is ill-defined and being set to 0.0 in labels with no predicted samples. Use `zero_division` parameter to control this behavior.\n",
      "  _warn_prf(average, modifier, f\"{metric.capitalize()} is\", len(result))\n",
      "/Users/vang/miniconda3/lib/python3.11/site-packages/sklearn/metrics/_classification.py:1497: UndefinedMetricWarning: Precision is ill-defined and being set to 0.0 in labels with no predicted samples. Use `zero_division` parameter to control this behavior.\n",
      "  _warn_prf(average, modifier, f\"{metric.capitalize()} is\", len(result))\n"
     ]
    }
   ],
   "source": [
    "# Make predictions using baseline models\n",
    "y_pred_random = [random_guesser(x) for x in x_liar_vectorized]\n",
    "y_pred_always_1 = [always_1(x) for x in x_liar_vectorized]\n",
    "\n",
    "# Generate classification reports\n",
    "report_random_liar = classification_report(y_liar, y_pred_random, output_dict=True)\n",
    "report_always_1_liar = classification_report(y_liar, y_pred_always_1, output_dict=True)"
   ]
  },
  {
   "cell_type": "code",
   "execution_count": 76,
   "id": "d6b6acbc-c77b-4230-8b06-56d82078b2e8",
   "metadata": {},
   "outputs": [
    {
     "data": {
      "text/plain": [
       "{'precision': 0.54, 'recall': 0.54, 'f1-score': 0.54, 'support': 200.0}"
      ]
     },
     "execution_count": 76,
     "metadata": {},
     "output_type": "execute_result"
    }
   ],
   "source": [
    "report_random_liar['1']"
   ]
  },
  {
   "cell_type": "code",
   "execution_count": 77,
   "id": "38f7622e-76d9-43b7-b8b2-172707fd86bc",
   "metadata": {},
   "outputs": [
    {
     "data": {
      "text/plain": [
       "{'precision': 0.5,\n",
       " 'recall': 1.0,\n",
       " 'f1-score': 0.6666666666666666,\n",
       " 'support': 200.0}"
      ]
     },
     "execution_count": 77,
     "metadata": {},
     "output_type": "execute_result"
    }
   ],
   "source": [
    "report_always_1_liar['1']"
   ]
  },
  {
   "cell_type": "markdown",
   "id": "31ac48ba-6062-4855-9a44-31e898c48a88",
   "metadata": {},
   "source": [
    "### Evaluation of SVM on LIAR"
   ]
  },
  {
   "cell_type": "code",
   "execution_count": 78,
   "id": "53d55f38-734b-499d-8d37-ef1b9764ad36",
   "metadata": {},
   "outputs": [
    {
     "data": {
      "text/plain": [
       "0.6042884990253411"
      ]
     },
     "execution_count": 78,
     "metadata": {},
     "output_type": "execute_result"
    }
   ],
   "source": [
    "svm_y_liar_pred = best_svm.predict(x_liar_vectorized)\n",
    "f1_score(y_liar, svm_y_liar_pred)"
   ]
  },
  {
   "cell_type": "code",
   "execution_count": 79,
   "id": "e921bea6-50e8-4de7-9e95-ce8151091fcb",
   "metadata": {},
   "outputs": [
    {
     "data": {
      "image/png": "[encoded data removed]",
      "text/plain": [
       "<Figure size 640x480 with 2 Axes>"
      ]
     },
     "metadata": {},
     "output_type": "display_data"
    }
   ],
   "source": [
    "#Confusion matrix for SVM\n",
    "cm_svm_liar = confusion_matrix(y_liar, svm_y_liar_pred, labels=best_svm.classes_)\n",
    "disp_svm_liar = ConfusionMatrixDisplay(confusion_matrix=cm_svm_liar, display_labels=best_svm.classes_)\n",
    "disp_svm_liar.plot()\n",
    "plt.savefig('svm_confusion_matrix_liar.png')\n",
    "plt.show()"
   ]
  },
  {
   "cell_type": "code",
   "execution_count": 80,
   "id": "e8180561-10b7-4c69-b9ad-3034c9e88aad",
   "metadata": {},
   "outputs": [
    {
     "data": {
      "text/plain": [
       "{'precision': 0.4952076677316294,\n",
       " 'recall': 0.775,\n",
       " 'f1-score': 0.6042884990253411,\n",
       " 'support': 200.0}"
      ]
     },
     "execution_count": 80,
     "metadata": {},
     "output_type": "execute_result"
    }
   ],
   "source": [
    "# Classification report for SVM\n",
    "svm_report_liar = classification_report(y_liar, svm_y_liar_pred, output_dict = True)\n",
    "svm_report_liar['1'] # fake"
   ]
  },
  {
   "cell_type": "code",
   "execution_count": 81,
   "id": "bcde7bf1-639b-4162-82dd-fce387667b3c",
   "metadata": {},
   "outputs": [
    {
     "data": {
      "text/plain": [
       "{'precision': 0.4827586206896552,\n",
       " 'recall': 0.21,\n",
       " 'f1-score': 0.2926829268292683,\n",
       " 'support': 200.0}"
      ]
     },
     "execution_count": 81,
     "metadata": {},
     "output_type": "execute_result"
    }
   ],
   "source": [
    "svm_report_liar['0'] # reliable"
   ]
  },
  {
   "cell_type": "markdown",
   "id": "55649393-e20b-4b7a-9b14-11b34caf383f",
   "metadata": {},
   "source": [
    "### Evaluation of Logistic Regression on LIAR"
   ]
  },
  {
   "cell_type": "code",
   "execution_count": 82,
   "id": "54ae9e43-e057-49aa-bbb2-4d57226b6840",
   "metadata": {},
   "outputs": [
    {
     "data": {
      "text/plain": [
       "0.6432532347504621"
      ]
     },
     "execution_count": 82,
     "metadata": {},
     "output_type": "execute_result"
    }
   ],
   "source": [
    "lr_y_liar_pred = best_lr.predict(x_liar_vectorized)\n",
    "f1_score(y_liar, lr_y_liar_pred)"
   ]
  },
  {
   "cell_type": "code",
   "execution_count": 83,
   "id": "fbfef71c-2b6b-455d-aa57-3aba3ab93276",
   "metadata": {},
   "outputs": [
    {
     "data": {
      "image/png": "[encoded data removed]",
      "text/plain": [
       "<Figure size 640x480 with 2 Axes>"
      ]
     },
     "metadata": {},
     "output_type": "display_data"
    }
   ],
   "source": [
    "#Confusion matrix for LR\n",
    "cm_lr_liar = confusion_matrix(y_liar, lr_y_liar_pred, labels=best_lr.classes_)\n",
    "disp_lr_liar = ConfusionMatrixDisplay(confusion_matrix=cm_lr_liar, display_labels=best_lr.classes_)\n",
    "disp_lr_liar.plot()\n",
    "plt.savefig('lr_confusion_matrix_liar.png')\n",
    "plt.show()"
   ]
  },
  {
   "cell_type": "code",
   "execution_count": 84,
   "id": "5b4ba57c-e4fc-4558-bc33-f048adc021de",
   "metadata": {},
   "outputs": [
    {
     "data": {
      "text/plain": [
       "{'precision': 0.5102639296187683,\n",
       " 'recall': 0.87,\n",
       " 'f1-score': 0.6432532347504621,\n",
       " 'support': 200.0}"
      ]
     },
     "execution_count": 84,
     "metadata": {},
     "output_type": "execute_result"
    }
   ],
   "source": [
    "# Classification report for LR\n",
    "lr_report_liar = classification_report(y_liar, lr_y_liar_pred, output_dict = True)\n",
    "lr_report_liar['1'] # fake"
   ]
  },
  {
   "cell_type": "code",
   "execution_count": 85,
   "id": "eb102766-2129-4287-a2ee-31c3c7a6b5c9",
   "metadata": {},
   "outputs": [
    {
     "data": {
      "text/plain": [
       "{'precision': 0.559322033898305,\n",
       " 'recall': 0.165,\n",
       " 'f1-score': 0.2548262548262548,\n",
       " 'support': 200.0}"
      ]
     },
     "execution_count": 85,
     "metadata": {},
     "output_type": "execute_result"
    }
   ],
   "source": [
    "lr_report_liar['0'] # reliable"
   ]
  },
  {
   "cell_type": "code",
   "execution_count": null,
   "id": "c28de794-3f16-4a7a-82c8-c763efbc3332",
   "metadata": {},
   "outputs": [],
   "source": []
  }
 ],
 "metadata": {
  "kernelspec": {
   "display_name": "Python 3 (ipykernel)",
   "language": "python",
   "name": "python3"
  },
  "language_info": {
   "codemirror_mode": {
    "name": "ipython",
    "version": 3
   },
   "file_extension": ".py",
   "mimetype": "text/x-python",
   "name": "python",
   "nbconvert_exporter": "python",
   "pygments_lexer": "ipython3",
   "version": "3.11.5"
  }
 },
 "nbformat": 4,
 "nbformat_minor": 5
}
